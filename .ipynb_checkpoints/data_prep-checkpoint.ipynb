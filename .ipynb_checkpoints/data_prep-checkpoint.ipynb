{
 "cells": [
  {
   "cell_type": "code",
   "execution_count": 135,
   "metadata": {},
   "outputs": [],
   "source": [
    "import pandas as pd\n",
    "import numpy as np\n",
    "import matplotlib.pyplot as plt\n",
    "%matplotlib inline\n",
    "\n",
    "import csv\n",
    "\n",
    "import operator\n",
    "from scipy.stats.stats import pearsonr\n",
    "\n",
    "from sklearn.ensemble import GradientBoostingClassifier\n",
    "from sklearn.ensemble import RandomForestClassifier\n",
    "from catboost import CatBoostClassifier\n",
    "\n",
    "\n",
    "from sklearn.model_selection import train_test_split\n",
    "\n",
    "train = './data/train.csv'\n",
    "test = './data/test.csv'\n",
    "\n",
    "target = 'is_female'"
   ]
  },
  {
   "cell_type": "code",
   "execution_count": 292,
   "metadata": {},
   "outputs": [],
   "source": [
    "train_df = pd.read_csv(train, low_memory=False)\n",
    "test_df = pd.read_csv(test, low_memory=False)"
   ]
  },
  {
   "cell_type": "code",
   "execution_count": 293,
   "metadata": {},
   "outputs": [
    {
     "name": "stdout",
     "output_type": "stream",
     "text": [
      "(18255, 1235) (27285, 1234)\n"
     ]
    }
   ],
   "source": [
    "print train_df.shape, test_df.shape"
   ]
  },
  {
   "cell_type": "code",
   "execution_count": 294,
   "metadata": {},
   "outputs": [
    {
     "name": "stdout",
     "output_type": "stream",
     "text": [
      "set(['is_female', 'train_id'])\n"
     ]
    },
    {
     "data": {
      "text/plain": [
       "{'test_id'}"
      ]
     },
     "execution_count": 294,
     "metadata": {},
     "output_type": "execute_result"
    }
   ],
   "source": [
    "print set(train_df.columns) - set(test_df.columns)\n",
    "set(test_df.columns)-set(train_df.columns) "
   ]
  },
  {
   "cell_type": "code",
   "execution_count": 295,
   "metadata": {},
   "outputs": [
    {
     "data": {
      "text/html": [
       "<div>\n",
       "<style>\n",
       "    .dataframe thead tr:only-child th {\n",
       "        text-align: right;\n",
       "    }\n",
       "\n",
       "    .dataframe thead th {\n",
       "        text-align: left;\n",
       "    }\n",
       "\n",
       "    .dataframe tbody tr th {\n",
       "        vertical-align: top;\n",
       "    }\n",
       "</style>\n",
       "<table border=\"1\" class=\"dataframe\">\n",
       "  <thead>\n",
       "    <tr style=\"text-align: right;\">\n",
       "      <th></th>\n",
       "      <th>train_id</th>\n",
       "      <th>AA3</th>\n",
       "      <th>AA4</th>\n",
       "      <th>AA5</th>\n",
       "      <th>AA6</th>\n",
       "      <th>AA7</th>\n",
       "      <th>AA14</th>\n",
       "      <th>AA15</th>\n",
       "      <th>DG1</th>\n",
       "      <th>is_female</th>\n",
       "      <th>...</th>\n",
       "      <th>LN1B</th>\n",
       "      <th>LN2_1</th>\n",
       "      <th>LN2_2</th>\n",
       "      <th>LN2_3</th>\n",
       "      <th>LN2_4</th>\n",
       "      <th>GN1</th>\n",
       "      <th>GN2</th>\n",
       "      <th>GN3</th>\n",
       "      <th>GN4</th>\n",
       "      <th>GN5</th>\n",
       "    </tr>\n",
       "  </thead>\n",
       "  <tbody>\n",
       "    <tr>\n",
       "      <th>count</th>\n",
       "      <td>18255.000000</td>\n",
       "      <td>18255.000000</td>\n",
       "      <td>18255.000000</td>\n",
       "      <td>5653.000000</td>\n",
       "      <td>12602.000000</td>\n",
       "      <td>18255.000000</td>\n",
       "      <td>18255.000000</td>\n",
       "      <td>18255.000000</td>\n",
       "      <td>18255.000000</td>\n",
       "      <td>18255.000000</td>\n",
       "      <td>...</td>\n",
       "      <td>18255.000000</td>\n",
       "      <td>18255.000000</td>\n",
       "      <td>18255.000000</td>\n",
       "      <td>18255.000000</td>\n",
       "      <td>18255.000000</td>\n",
       "      <td>14230.000000</td>\n",
       "      <td>18255.000000</td>\n",
       "      <td>18255.000000</td>\n",
       "      <td>18255.000000</td>\n",
       "      <td>18255.000000</td>\n",
       "    </tr>\n",
       "    <tr>\n",
       "      <th>mean</th>\n",
       "      <td>9127.000000</td>\n",
       "      <td>2.371460</td>\n",
       "      <td>28.558313</td>\n",
       "      <td>3.138864</td>\n",
       "      <td>6.793525</td>\n",
       "      <td>291360.681676</td>\n",
       "      <td>8030.510600</td>\n",
       "      <td>352.038346</td>\n",
       "      <td>1978.073185</td>\n",
       "      <td>0.537113</td>\n",
       "      <td>...</td>\n",
       "      <td>2.397316</td>\n",
       "      <td>2.145330</td>\n",
       "      <td>2.151575</td>\n",
       "      <td>2.830731</td>\n",
       "      <td>2.835881</td>\n",
       "      <td>5.590654</td>\n",
       "      <td>6.763079</td>\n",
       "      <td>7.421912</td>\n",
       "      <td>8.925883</td>\n",
       "      <td>8.817365</td>\n",
       "    </tr>\n",
       "    <tr>\n",
       "      <th>std</th>\n",
       "      <td>5269.908918</td>\n",
       "      <td>1.130523</td>\n",
       "      <td>9.822629</td>\n",
       "      <td>1.361434</td>\n",
       "      <td>0.769568</td>\n",
       "      <td>98126.483799</td>\n",
       "      <td>22061.608061</td>\n",
       "      <td>179.744071</td>\n",
       "      <td>14.740675</td>\n",
       "      <td>0.498634</td>\n",
       "      <td>...</td>\n",
       "      <td>1.231487</td>\n",
       "      <td>1.407641</td>\n",
       "      <td>1.407021</td>\n",
       "      <td>1.594319</td>\n",
       "      <td>1.592863</td>\n",
       "      <td>18.210791</td>\n",
       "      <td>20.537281</td>\n",
       "      <td>21.752528</td>\n",
       "      <td>24.523345</td>\n",
       "      <td>24.413247</td>\n",
       "    </tr>\n",
       "    <tr>\n",
       "      <th>min</th>\n",
       "      <td>0.000000</td>\n",
       "      <td>1.000000</td>\n",
       "      <td>11.000000</td>\n",
       "      <td>1.000000</td>\n",
       "      <td>6.000000</td>\n",
       "      <td>111011.000000</td>\n",
       "      <td>96.000000</td>\n",
       "      <td>24.000000</td>\n",
       "      <td>1917.000000</td>\n",
       "      <td>0.000000</td>\n",
       "      <td>...</td>\n",
       "      <td>1.000000</td>\n",
       "      <td>1.000000</td>\n",
       "      <td>1.000000</td>\n",
       "      <td>1.000000</td>\n",
       "      <td>1.000000</td>\n",
       "      <td>1.000000</td>\n",
       "      <td>1.000000</td>\n",
       "      <td>1.000000</td>\n",
       "      <td>1.000000</td>\n",
       "      <td>1.000000</td>\n",
       "    </tr>\n",
       "    <tr>\n",
       "      <th>25%</th>\n",
       "      <td>4563.500000</td>\n",
       "      <td>1.000000</td>\n",
       "      <td>21.000000</td>\n",
       "      <td>2.000000</td>\n",
       "      <td>6.000000</td>\n",
       "      <td>216071.000000</td>\n",
       "      <td>949.000000</td>\n",
       "      <td>178.000000</td>\n",
       "      <td>1969.000000</td>\n",
       "      <td>0.000000</td>\n",
       "      <td>...</td>\n",
       "      <td>1.000000</td>\n",
       "      <td>1.000000</td>\n",
       "      <td>1.000000</td>\n",
       "      <td>1.000000</td>\n",
       "      <td>1.000000</td>\n",
       "      <td>1.000000</td>\n",
       "      <td>1.000000</td>\n",
       "      <td>1.000000</td>\n",
       "      <td>1.000000</td>\n",
       "      <td>1.000000</td>\n",
       "    </tr>\n",
       "    <tr>\n",
       "      <th>50%</th>\n",
       "      <td>9127.000000</td>\n",
       "      <td>2.000000</td>\n",
       "      <td>31.000000</td>\n",
       "      <td>3.000000</td>\n",
       "      <td>7.000000</td>\n",
       "      <td>313011.000000</td>\n",
       "      <td>2902.000000</td>\n",
       "      <td>354.000000</td>\n",
       "      <td>1981.000000</td>\n",
       "      <td>1.000000</td>\n",
       "      <td>...</td>\n",
       "      <td>2.000000</td>\n",
       "      <td>1.000000</td>\n",
       "      <td>1.000000</td>\n",
       "      <td>3.000000</td>\n",
       "      <td>3.000000</td>\n",
       "      <td>2.000000</td>\n",
       "      <td>2.000000</td>\n",
       "      <td>2.000000</td>\n",
       "      <td>2.000000</td>\n",
       "      <td>2.000000</td>\n",
       "    </tr>\n",
       "    <tr>\n",
       "      <th>75%</th>\n",
       "      <td>13690.500000</td>\n",
       "      <td>3.000000</td>\n",
       "      <td>34.000000</td>\n",
       "      <td>4.000000</td>\n",
       "      <td>7.000000</td>\n",
       "      <td>348181.000000</td>\n",
       "      <td>4609.000000</td>\n",
       "      <td>523.000000</td>\n",
       "      <td>1990.000000</td>\n",
       "      <td>1.000000</td>\n",
       "      <td>...</td>\n",
       "      <td>4.000000</td>\n",
       "      <td>3.000000</td>\n",
       "      <td>3.000000</td>\n",
       "      <td>4.000000</td>\n",
       "      <td>4.000000</td>\n",
       "      <td>3.000000</td>\n",
       "      <td>3.000000</td>\n",
       "      <td>3.000000</td>\n",
       "      <td>3.000000</td>\n",
       "      <td>3.000000</td>\n",
       "    </tr>\n",
       "    <tr>\n",
       "      <th>max</th>\n",
       "      <td>18254.000000</td>\n",
       "      <td>4.000000</td>\n",
       "      <td>44.000000</td>\n",
       "      <td>5.000000</td>\n",
       "      <td>8.000000</td>\n",
       "      <td>448051.000000</td>\n",
       "      <td>99999.000000</td>\n",
       "      <td>633.000000</td>\n",
       "      <td>2001.000000</td>\n",
       "      <td>1.000000</td>\n",
       "      <td>...</td>\n",
       "      <td>4.000000</td>\n",
       "      <td>5.000000</td>\n",
       "      <td>5.000000</td>\n",
       "      <td>5.000000</td>\n",
       "      <td>5.000000</td>\n",
       "      <td>99.000000</td>\n",
       "      <td>99.000000</td>\n",
       "      <td>99.000000</td>\n",
       "      <td>99.000000</td>\n",
       "      <td>99.000000</td>\n",
       "    </tr>\n",
       "  </tbody>\n",
       "</table>\n",
       "<p>8 rows × 1139 columns</p>\n",
       "</div>"
      ],
      "text/plain": [
       "           train_id           AA3           AA4          AA5           AA6  \\\n",
       "count  18255.000000  18255.000000  18255.000000  5653.000000  12602.000000   \n",
       "mean    9127.000000      2.371460     28.558313     3.138864      6.793525   \n",
       "std     5269.908918      1.130523      9.822629     1.361434      0.769568   \n",
       "min        0.000000      1.000000     11.000000     1.000000      6.000000   \n",
       "25%     4563.500000      1.000000     21.000000     2.000000      6.000000   \n",
       "50%     9127.000000      2.000000     31.000000     3.000000      7.000000   \n",
       "75%    13690.500000      3.000000     34.000000     4.000000      7.000000   \n",
       "max    18254.000000      4.000000     44.000000     5.000000      8.000000   \n",
       "\n",
       "                 AA7          AA14          AA15           DG1     is_female  \\\n",
       "count   18255.000000  18255.000000  18255.000000  18255.000000  18255.000000   \n",
       "mean   291360.681676   8030.510600    352.038346   1978.073185      0.537113   \n",
       "std     98126.483799  22061.608061    179.744071     14.740675      0.498634   \n",
       "min    111011.000000     96.000000     24.000000   1917.000000      0.000000   \n",
       "25%    216071.000000    949.000000    178.000000   1969.000000      0.000000   \n",
       "50%    313011.000000   2902.000000    354.000000   1981.000000      1.000000   \n",
       "75%    348181.000000   4609.000000    523.000000   1990.000000      1.000000   \n",
       "max    448051.000000  99999.000000    633.000000   2001.000000      1.000000   \n",
       "\n",
       "           ...               LN1B         LN2_1         LN2_2         LN2_3  \\\n",
       "count      ...       18255.000000  18255.000000  18255.000000  18255.000000   \n",
       "mean       ...           2.397316      2.145330      2.151575      2.830731   \n",
       "std        ...           1.231487      1.407641      1.407021      1.594319   \n",
       "min        ...           1.000000      1.000000      1.000000      1.000000   \n",
       "25%        ...           1.000000      1.000000      1.000000      1.000000   \n",
       "50%        ...           2.000000      1.000000      1.000000      3.000000   \n",
       "75%        ...           4.000000      3.000000      3.000000      4.000000   \n",
       "max        ...           4.000000      5.000000      5.000000      5.000000   \n",
       "\n",
       "              LN2_4           GN1           GN2           GN3           GN4  \\\n",
       "count  18255.000000  14230.000000  18255.000000  18255.000000  18255.000000   \n",
       "mean       2.835881      5.590654      6.763079      7.421912      8.925883   \n",
       "std        1.592863     18.210791     20.537281     21.752528     24.523345   \n",
       "min        1.000000      1.000000      1.000000      1.000000      1.000000   \n",
       "25%        1.000000      1.000000      1.000000      1.000000      1.000000   \n",
       "50%        3.000000      2.000000      2.000000      2.000000      2.000000   \n",
       "75%        4.000000      3.000000      3.000000      3.000000      3.000000   \n",
       "max        5.000000     99.000000     99.000000     99.000000     99.000000   \n",
       "\n",
       "                GN5  \n",
       "count  18255.000000  \n",
       "mean       8.817365  \n",
       "std       24.413247  \n",
       "min        1.000000  \n",
       "25%        1.000000  \n",
       "50%        2.000000  \n",
       "75%        3.000000  \n",
       "max       99.000000  \n",
       "\n",
       "[8 rows x 1139 columns]"
      ]
     },
     "execution_count": 295,
     "metadata": {},
     "output_type": "execute_result"
    }
   ],
   "source": [
    "train_df.describe()"
   ]
  },
  {
   "cell_type": "code",
   "execution_count": 296,
   "metadata": {
    "collapsed": true
   },
   "outputs": [],
   "source": [
    "category_cols = train_df.select_dtypes(exclude=[np.number]).columns.tolist()\n"
   ]
  },
  {
   "cell_type": "code",
   "execution_count": 297,
   "metadata": {},
   "outputs": [],
   "source": [
    "#testing dataset has different number of columns, We merge train/test\n",
    "#to keep all columns and take the training rows again\n",
    "tr_rows = train_df.shape[0]\n",
    "df_all = pd.concat([train_df, test_df])\n",
    "df_all.shape\n",
    "\n",
    "\n",
    "\n",
    "for header in category_cols:\n",
    "    df_all[header] = df_all[header].astype('category').cat.codes.astype('int')\n",
    "    df_all[header] = pd.to_numeric(df_all[header])\n",
    "    \n",
    "    train_df[header] = train_df[header].astype('category').cat.codes\n",
    "    train_df[header] = pd.to_numeric(train_df[header])\n",
    "    test_df[header] = test_df[header].astype('category').cat.codes\n",
    "    test_df[header] = pd.to_numeric(test_df[header])"
   ]
  },
  {
   "cell_type": "code",
   "execution_count": 298,
   "metadata": {
    "collapsed": true
   },
   "outputs": [],
   "source": [
    "train_df = df_all.iloc[0:tr_rows]\n",
    "test_df = df_all.iloc[tr_rows:]"
   ]
  },
  {
   "cell_type": "code",
   "execution_count": 299,
   "metadata": {},
   "outputs": [
    {
     "data": {
      "text/plain": [
       "((18255, 1236), (27285, 1236))"
      ]
     },
     "execution_count": 299,
     "metadata": {},
     "output_type": "execute_result"
    }
   ],
   "source": [
    "train_df.shape, test_df.shape"
   ]
  },
  {
   "cell_type": "code",
   "execution_count": null,
   "metadata": {},
   "outputs": [],
   "source": []
  },
  {
   "cell_type": "code",
   "execution_count": 300,
   "metadata": {},
   "outputs": [],
   "source": [
    "X = train_df.drop([target], axis=1)\n",
    "Y = train_df[target]\n",
    "\n",
    "cols = train_df.columns[1:]\n",
    "train_df = train_df[cols]\n",
    "try:\n",
    "    \n",
    "    test_df = test_df.drop(['is_female'], axis=1)\n",
    "    \n",
    "    \n",
    "except:\n",
    "    pass\n",
    "\n",
    "##naive feature engineering\n",
    "train_df.loc[:,'row_nulls'] = train_df.isnull().sum(axis=1)\n",
    "test_df.loc[:, 'row_nulls'] = test_df.isnull().sum(axis=1)\n",
    "\n",
    "#this feature only has one value in test set, and none in training\n",
    "train_df.drop('MT13_96_OTHERS', axis=1, inplace=True)\n",
    "test_df.drop('MT13_96_OTHERS', axis=1, inplace=True)\n",
    "\n",
    "x_train, x_test, y_train, y_test = train_test_split(\n",
    "    X, Y, test_size=0.3, random_state=42)"
   ]
  },
  {
   "cell_type": "code",
   "execution_count": 301,
   "metadata": {
    "collapsed": true
   },
   "outputs": [],
   "source": [
    "#get categorical columns\n",
    "#category_cols = X.select_dtypes(exclude=[np.number]).columns.tolist()\n",
    "\n",
    "\n",
    "cat_dims = [X.columns.get_loc(i) for i in category_cols]\n",
    "#cat_dims.append('MT13_96_OTHERS') #categorical value only exists in test"
   ]
  },
  {
   "cell_type": "code",
   "execution_count": 302,
   "metadata": {},
   "outputs": [
    {
     "name": "stdout",
     "output_type": "stream",
     "text": [
      "0:\tlearn: 0.9267646\ttotal: 150ms\tremaining: 751ms\n",
      "1:\tlearn: 0.9373518\ttotal: 294ms\tremaining: 588ms\n",
      "2:\tlearn: 0.9345706\ttotal: 440ms\tremaining: 440ms\n",
      "3:\tlearn: 0.9354630\ttotal: 585ms\tremaining: 292ms\n",
      "4:\tlearn: 0.9374570\ttotal: 735ms\tremaining: 147ms\n",
      "5:\tlearn: 0.9393716\ttotal: 877ms\tremaining: 0us\n"
     ]
    },
    {
     "data": {
      "text/plain": [
       "<catboost.core._CatBoostBase at 0x1183703d0>"
      ]
     },
     "execution_count": 302,
     "metadata": {},
     "output_type": "execute_result"
    }
   ],
   "source": [
    "clf = CatBoostClassifier(eval_metric=\"AUC\", one_hot_max_size=3,\n",
    "                         iterations=6)\n",
    "clf.fit(x_train, y_train, cat_features = cat_dims)\n",
    "\n"
   ]
  },
  {
   "cell_type": "code",
   "execution_count": 303,
   "metadata": {},
   "outputs": [
    {
     "data": {
      "text/plain": [
       "((12778, 1235), (27285, 1235))"
      ]
     },
     "execution_count": 303,
     "metadata": {},
     "output_type": "execute_result"
    }
   ],
   "source": [
    "x_train.shape, test_df.shape"
   ]
  },
  {
   "cell_type": "code",
   "execution_count": 304,
   "metadata": {},
   "outputs": [
    {
     "ename": "CatboostError",
     "evalue": "Invalid type for cat_feature[0,1133]=nan : cat_features must be integer or string, real number values and NaN values should be converted to string.",
     "output_type": "error",
     "traceback": [
      "\u001b[0;31m---------------------------------------------------------------------------\u001b[0m",
      "\u001b[0;31mCatboostError\u001b[0m                             Traceback (most recent call last)",
      "\u001b[0;32m<ipython-input-304-d87726997c2f>\u001b[0m in \u001b[0;36m<module>\u001b[0;34m()\u001b[0m\n\u001b[0;32m----> 1\u001b[0;31m \u001b[0mres_proba\u001b[0m \u001b[0;34m=\u001b[0m \u001b[0mclf\u001b[0m\u001b[0;34m.\u001b[0m\u001b[0mpredict_proba\u001b[0m\u001b[0;34m(\u001b[0m\u001b[0mtest_df\u001b[0m\u001b[0;34m)\u001b[0m\u001b[0;34m\u001b[0m\u001b[0m\n\u001b[0m\u001b[1;32m      2\u001b[0m \u001b[0mres\u001b[0m \u001b[0;34m=\u001b[0m \u001b[0mclf\u001b[0m\u001b[0;34m.\u001b[0m\u001b[0mpredict\u001b[0m\u001b[0;34m(\u001b[0m\u001b[0mtest_df\u001b[0m\u001b[0;34m)\u001b[0m\u001b[0;34m\u001b[0m\u001b[0m\n",
      "\u001b[0;32m/Users/momori/anaconda2/lib/python2.7/site-packages/catboost/core.pyc\u001b[0m in \u001b[0;36mpredict_proba\u001b[0;34m(self, data, ntree_start, ntree_end, thread_count, verbose)\u001b[0m\n\u001b[1;32m   1543\u001b[0m         \u001b[0mprediction\u001b[0m \u001b[0;34m:\u001b[0m \u001b[0mnumpy\u001b[0m\u001b[0;34m.\u001b[0m\u001b[0marray\u001b[0m\u001b[0;34m\u001b[0m\u001b[0m\n\u001b[1;32m   1544\u001b[0m         \"\"\"\n\u001b[0;32m-> 1545\u001b[0;31m         \u001b[0;32mreturn\u001b[0m \u001b[0mself\u001b[0m\u001b[0;34m.\u001b[0m\u001b[0m_predict\u001b[0m\u001b[0;34m(\u001b[0m\u001b[0mdata\u001b[0m\u001b[0;34m,\u001b[0m \u001b[0;34m'Probability'\u001b[0m\u001b[0;34m,\u001b[0m \u001b[0mntree_start\u001b[0m\u001b[0;34m,\u001b[0m \u001b[0mntree_end\u001b[0m\u001b[0;34m,\u001b[0m \u001b[0mthread_count\u001b[0m\u001b[0;34m,\u001b[0m \u001b[0mverbose\u001b[0m\u001b[0;34m)\u001b[0m\u001b[0;34m\u001b[0m\u001b[0m\n\u001b[0m\u001b[1;32m   1546\u001b[0m \u001b[0;34m\u001b[0m\u001b[0m\n\u001b[1;32m   1547\u001b[0m     \u001b[0;32mdef\u001b[0m \u001b[0mstaged_predict\u001b[0m\u001b[0;34m(\u001b[0m\u001b[0mself\u001b[0m\u001b[0;34m,\u001b[0m \u001b[0mdata\u001b[0m\u001b[0;34m,\u001b[0m \u001b[0mprediction_type\u001b[0m\u001b[0;34m=\u001b[0m\u001b[0;34m'Class'\u001b[0m\u001b[0;34m,\u001b[0m \u001b[0mntree_start\u001b[0m\u001b[0;34m=\u001b[0m\u001b[0;36m0\u001b[0m\u001b[0;34m,\u001b[0m \u001b[0mntree_end\u001b[0m\u001b[0;34m=\u001b[0m\u001b[0;36m0\u001b[0m\u001b[0;34m,\u001b[0m \u001b[0meval_period\u001b[0m\u001b[0;34m=\u001b[0m\u001b[0;36m1\u001b[0m\u001b[0;34m,\u001b[0m \u001b[0mthread_count\u001b[0m\u001b[0;34m=\u001b[0m\u001b[0;34m-\u001b[0m\u001b[0;36m1\u001b[0m\u001b[0;34m,\u001b[0m \u001b[0mverbose\u001b[0m\u001b[0;34m=\u001b[0m\u001b[0mNone\u001b[0m\u001b[0;34m)\u001b[0m\u001b[0;34m:\u001b[0m\u001b[0;34m\u001b[0m\u001b[0m\n",
      "\u001b[0;32m/Users/momori/anaconda2/lib/python2.7/site-packages/catboost/core.pyc\u001b[0m in \u001b[0;36m_predict\u001b[0;34m(self, data, prediction_type, ntree_start, ntree_end, thread_count, verbose)\u001b[0m\n\u001b[1;32m    738\u001b[0m             \u001b[0;32mraise\u001b[0m \u001b[0mCatboostError\u001b[0m\u001b[0;34m(\u001b[0m\u001b[0;34m\"There is no trained model to use predict(). Use fit() to train model. Then use predict().\"\u001b[0m\u001b[0;34m)\u001b[0m\u001b[0;34m\u001b[0m\u001b[0m\n\u001b[1;32m    739\u001b[0m         \u001b[0;32mif\u001b[0m \u001b[0;32mnot\u001b[0m \u001b[0misinstance\u001b[0m\u001b[0;34m(\u001b[0m\u001b[0mdata\u001b[0m\u001b[0;34m,\u001b[0m \u001b[0mPool\u001b[0m\u001b[0;34m)\u001b[0m\u001b[0;34m:\u001b[0m\u001b[0;34m\u001b[0m\u001b[0m\n\u001b[0;32m--> 740\u001b[0;31m             \u001b[0mdata\u001b[0m \u001b[0;34m=\u001b[0m \u001b[0mPool\u001b[0m\u001b[0;34m(\u001b[0m\u001b[0mdata\u001b[0m\u001b[0;34m=\u001b[0m\u001b[0mdata\u001b[0m\u001b[0;34m,\u001b[0m \u001b[0mcat_features\u001b[0m\u001b[0;34m=\u001b[0m\u001b[0mself\u001b[0m\u001b[0;34m.\u001b[0m\u001b[0m_get_cat_feature_indices\u001b[0m\u001b[0;34m(\u001b[0m\u001b[0;34m)\u001b[0m\u001b[0;34m)\u001b[0m\u001b[0;34m\u001b[0m\u001b[0m\n\u001b[0m\u001b[1;32m    741\u001b[0m         \u001b[0;32melif\u001b[0m \u001b[0;32mnot\u001b[0m \u001b[0mnp\u001b[0m\u001b[0;34m.\u001b[0m\u001b[0mall\u001b[0m\u001b[0;34m(\u001b[0m\u001b[0mset\u001b[0m\u001b[0;34m(\u001b[0m\u001b[0mself\u001b[0m\u001b[0;34m.\u001b[0m\u001b[0m_get_cat_feature_indices\u001b[0m\u001b[0;34m(\u001b[0m\u001b[0;34m)\u001b[0m\u001b[0;34m)\u001b[0m\u001b[0;34m.\u001b[0m\u001b[0missubset\u001b[0m\u001b[0;34m(\u001b[0m\u001b[0mdata\u001b[0m\u001b[0;34m.\u001b[0m\u001b[0mget_cat_feature_indices\u001b[0m\u001b[0;34m(\u001b[0m\u001b[0;34m)\u001b[0m\u001b[0;34m)\u001b[0m\u001b[0;34m)\u001b[0m\u001b[0;34m:\u001b[0m\u001b[0;34m\u001b[0m\u001b[0m\n\u001b[1;32m    742\u001b[0m             \u001b[0;32mraise\u001b[0m \u001b[0mCatboostError\u001b[0m\u001b[0;34m(\u001b[0m\u001b[0;34m\"Data cat_features in predict()={} are not equal data cat_features in fit()={}.\"\u001b[0m\u001b[0;34m.\u001b[0m\u001b[0mformat\u001b[0m\u001b[0;34m(\u001b[0m\u001b[0mdata\u001b[0m\u001b[0;34m.\u001b[0m\u001b[0mget_cat_feature_indices\u001b[0m\u001b[0;34m(\u001b[0m\u001b[0;34m)\u001b[0m\u001b[0;34m,\u001b[0m \u001b[0mself\u001b[0m\u001b[0;34m.\u001b[0m\u001b[0m_get_cat_feature_indices\u001b[0m\u001b[0;34m(\u001b[0m\u001b[0;34m)\u001b[0m\u001b[0;34m)\u001b[0m\u001b[0;34m)\u001b[0m\u001b[0;34m\u001b[0m\u001b[0m\n",
      "\u001b[0;32m/Users/momori/anaconda2/lib/python2.7/site-packages/catboost/core.pyc\u001b[0m in \u001b[0;36m__init__\u001b[0;34m(self, data, label, cat_features, column_description, pairs, delimiter, has_header, weight, query_id, pairs_weight, baseline, feature_names, thread_count)\u001b[0m\n\u001b[1;32m    158\u001b[0m                 \u001b[0mself\u001b[0m\u001b[0;34m.\u001b[0m\u001b[0m_read\u001b[0m\u001b[0;34m(\u001b[0m\u001b[0mdata\u001b[0m\u001b[0;34m,\u001b[0m \u001b[0mcolumn_description\u001b[0m\u001b[0;34m,\u001b[0m \u001b[0mpairs\u001b[0m\u001b[0;34m,\u001b[0m \u001b[0mdelimiter\u001b[0m\u001b[0;34m,\u001b[0m \u001b[0mhas_header\u001b[0m\u001b[0;34m,\u001b[0m \u001b[0mthread_count\u001b[0m\u001b[0;34m)\u001b[0m\u001b[0;34m\u001b[0m\u001b[0m\n\u001b[1;32m    159\u001b[0m             \u001b[0;32melse\u001b[0m\u001b[0;34m:\u001b[0m\u001b[0;34m\u001b[0m\u001b[0m\n\u001b[0;32m--> 160\u001b[0;31m                 \u001b[0mself\u001b[0m\u001b[0;34m.\u001b[0m\u001b[0m_init\u001b[0m\u001b[0;34m(\u001b[0m\u001b[0mdata\u001b[0m\u001b[0;34m,\u001b[0m \u001b[0mlabel\u001b[0m\u001b[0;34m,\u001b[0m \u001b[0mcat_features\u001b[0m\u001b[0;34m,\u001b[0m \u001b[0mpairs\u001b[0m\u001b[0;34m,\u001b[0m \u001b[0mweight\u001b[0m\u001b[0;34m,\u001b[0m \u001b[0mquery_id\u001b[0m\u001b[0;34m,\u001b[0m \u001b[0mpairs_weight\u001b[0m\u001b[0;34m,\u001b[0m \u001b[0mbaseline\u001b[0m\u001b[0;34m,\u001b[0m \u001b[0mfeature_names\u001b[0m\u001b[0;34m)\u001b[0m\u001b[0;34m\u001b[0m\u001b[0m\n\u001b[0m\u001b[1;32m    161\u001b[0m         \u001b[0msuper\u001b[0m\u001b[0;34m(\u001b[0m\u001b[0mPool\u001b[0m\u001b[0;34m,\u001b[0m \u001b[0mself\u001b[0m\u001b[0;34m)\u001b[0m\u001b[0;34m.\u001b[0m\u001b[0m__init__\u001b[0m\u001b[0;34m(\u001b[0m\u001b[0;34m)\u001b[0m\u001b[0;34m\u001b[0m\u001b[0m\n\u001b[1;32m    162\u001b[0m \u001b[0;34m\u001b[0m\u001b[0m\n",
      "\u001b[0;32m/Users/momori/anaconda2/lib/python2.7/site-packages/catboost/core.pyc\u001b[0m in \u001b[0;36m_init\u001b[0;34m(self, data_matrix, label, cat_features, pairs, weight, query_id, pairs_weight, baseline, feature_names)\u001b[0m\n\u001b[1;32m    443\u001b[0m         \u001b[0;32mif\u001b[0m \u001b[0mfeature_names\u001b[0m \u001b[0;32mis\u001b[0m \u001b[0;32mnot\u001b[0m \u001b[0mNone\u001b[0m\u001b[0;34m:\u001b[0m\u001b[0;34m\u001b[0m\u001b[0m\n\u001b[1;32m    444\u001b[0m             \u001b[0mself\u001b[0m\u001b[0;34m.\u001b[0m\u001b[0m_check_feature_names\u001b[0m\u001b[0;34m(\u001b[0m\u001b[0mfeature_names\u001b[0m\u001b[0;34m,\u001b[0m \u001b[0mfeatures_count\u001b[0m\u001b[0;34m)\u001b[0m\u001b[0;34m\u001b[0m\u001b[0m\n\u001b[0;32m--> 445\u001b[0;31m         \u001b[0mself\u001b[0m\u001b[0;34m.\u001b[0m\u001b[0m_init_pool\u001b[0m\u001b[0;34m(\u001b[0m\u001b[0mdata_matrix\u001b[0m\u001b[0;34m,\u001b[0m \u001b[0mlabel\u001b[0m\u001b[0;34m,\u001b[0m \u001b[0mcat_features\u001b[0m\u001b[0;34m,\u001b[0m \u001b[0mpairs\u001b[0m\u001b[0;34m,\u001b[0m \u001b[0mweight\u001b[0m\u001b[0;34m,\u001b[0m \u001b[0mquery_id\u001b[0m\u001b[0;34m,\u001b[0m \u001b[0mpairs_weight\u001b[0m\u001b[0;34m,\u001b[0m \u001b[0mbaseline\u001b[0m\u001b[0;34m,\u001b[0m \u001b[0mfeature_names\u001b[0m\u001b[0;34m)\u001b[0m\u001b[0;34m\u001b[0m\u001b[0m\n\u001b[0m\u001b[1;32m    446\u001b[0m \u001b[0;34m\u001b[0m\u001b[0m\n\u001b[1;32m    447\u001b[0m \u001b[0;34m\u001b[0m\u001b[0m\n",
      "\u001b[0;32m_catboost.pyx\u001b[0m in \u001b[0;36m_catboost._PoolBase._init_pool\u001b[0;34m()\u001b[0m\n",
      "\u001b[0;32m_catboost.pyx\u001b[0m in \u001b[0;36m_catboost._PoolBase._init_pool\u001b[0;34m()\u001b[0m\n",
      "\u001b[0;32m_catboost.pyx\u001b[0m in \u001b[0;36m_catboost._PoolBase._set_data\u001b[0;34m()\u001b[0m\n",
      "\u001b[0;31mCatboostError\u001b[0m: Invalid type for cat_feature[0,1133]=nan : cat_features must be integer or string, real number values and NaN values should be converted to string."
     ]
    }
   ],
   "source": [
    "res_proba = clf.predict_proba(test_df)\n",
    "res = clf.predict(test_df)"
   ]
  },
  {
   "cell_type": "code",
   "execution_count": 313,
   "metadata": {},
   "outputs": [
    {
     "data": {
      "text/plain": [
       "((array([  1.,   2.,   3., ...,  nan,  nan,  nan]),\n",
       "  array([486, 295,  48, ...,   1,   1,   1])),\n",
       " (array([  1.,   2.,   3., ...,  nan,  nan,  nan]),\n",
       "  array([354, 185,  31, ...,   1,   1,   1])))"
      ]
     },
     "execution_count": 313,
     "metadata": {},
     "output_type": "execute_result"
    }
   ],
   "source": [
    "c = test_df.columns[1133]\n",
    "np.unique(test_df[c].values, return_counts=True), np.unique(train_df[c].values, return_counts=True)\n",
    "\n",
    "\n"
   ]
  },
  {
   "cell_type": "code",
   "execution_count": 279,
   "metadata": {},
   "outputs": [
    {
     "name": "stdout",
     "output_type": "stream",
     "text": [
      "False nan True True\n"
     ]
    }
   ],
   "source": [
    "import math\n",
    "a = train_df['MT13_96_OTHERS'].values\n",
    "a[0] == a[1]\n",
    "print a[1]==float('nan'), a[1], math.isnan(a[1]), math.isnan(a[1])"
   ]
  },
  {
   "cell_type": "code",
   "execution_count": 225,
   "metadata": {},
   "outputs": [
    {
     "data": {
      "text/plain": [
       "0.0"
      ]
     },
     "execution_count": 225,
     "metadata": {},
     "output_type": "execute_result"
    }
   ],
   "source": [
    "clf.score(test_df, test_target)"
   ]
  },
  {
   "cell_type": "code",
   "execution_count": 226,
   "metadata": {},
   "outputs": [
    {
     "data": {
      "text/html": [
       "<div>\n",
       "<style>\n",
       "    .dataframe thead tr:only-child th {\n",
       "        text-align: right;\n",
       "    }\n",
       "\n",
       "    .dataframe thead th {\n",
       "        text-align: left;\n",
       "    }\n",
       "\n",
       "    .dataframe tbody tr th {\n",
       "        vertical-align: top;\n",
       "    }\n",
       "</style>\n",
       "<table border=\"1\" class=\"dataframe\">\n",
       "  <thead>\n",
       "    <tr style=\"text-align: right;\">\n",
       "      <th></th>\n",
       "      <th>AA14</th>\n",
       "      <th>AA15</th>\n",
       "      <th>AA3</th>\n",
       "      <th>AA4</th>\n",
       "      <th>AA5</th>\n",
       "      <th>AA6</th>\n",
       "      <th>AA7</th>\n",
       "      <th>DG1</th>\n",
       "      <th>DG10b</th>\n",
       "      <th>DG10c</th>\n",
       "      <th>...</th>\n",
       "      <th>MT6_OTHERS</th>\n",
       "      <th>MT7</th>\n",
       "      <th>MT7A</th>\n",
       "      <th>MT7A_OTHERS</th>\n",
       "      <th>MT8</th>\n",
       "      <th>MT9</th>\n",
       "      <th>MT9_OTHERS</th>\n",
       "      <th>row_nulls</th>\n",
       "      <th>test_id</th>\n",
       "      <th>train_id</th>\n",
       "    </tr>\n",
       "  </thead>\n",
       "  <tbody>\n",
       "    <tr>\n",
       "      <th>0</th>\n",
       "      <td>4479.0</td>\n",
       "      <td>535.0</td>\n",
       "      <td>4</td>\n",
       "      <td>41</td>\n",
       "      <td>NaN</td>\n",
       "      <td>7.0</td>\n",
       "      <td>417211</td>\n",
       "      <td>1979</td>\n",
       "      <td>1.0</td>\n",
       "      <td>NaN</td>\n",
       "      <td>...</td>\n",
       "      <td>-1</td>\n",
       "      <td>2.0</td>\n",
       "      <td>NaN</td>\n",
       "      <td>-1</td>\n",
       "      <td>NaN</td>\n",
       "      <td>12.0</td>\n",
       "      <td>-1</td>\n",
       "      <td>630</td>\n",
       "      <td>0.0</td>\n",
       "      <td>NaN</td>\n",
       "    </tr>\n",
       "    <tr>\n",
       "      <th>1</th>\n",
       "      <td>3803.0</td>\n",
       "      <td>476.0</td>\n",
       "      <td>3</td>\n",
       "      <td>32</td>\n",
       "      <td>2.0</td>\n",
       "      <td>NaN</td>\n",
       "      <td>322011</td>\n",
       "      <td>1993</td>\n",
       "      <td>0.0</td>\n",
       "      <td>0.0</td>\n",
       "      <td>...</td>\n",
       "      <td>-1</td>\n",
       "      <td>NaN</td>\n",
       "      <td>NaN</td>\n",
       "      <td>-1</td>\n",
       "      <td>NaN</td>\n",
       "      <td>NaN</td>\n",
       "      <td>-1</td>\n",
       "      <td>689</td>\n",
       "      <td>1.0</td>\n",
       "      <td>NaN</td>\n",
       "    </tr>\n",
       "  </tbody>\n",
       "</table>\n",
       "<p>2 rows × 1236 columns</p>\n",
       "</div>"
      ],
      "text/plain": [
       "     AA14   AA15  AA3  AA4  AA5  AA6     AA7   DG1  DG10b  DG10c    ...     \\\n",
       "0  4479.0  535.0    4   41  NaN  7.0  417211  1979    1.0    NaN    ...      \n",
       "1  3803.0  476.0    3   32  2.0  NaN  322011  1993    0.0    0.0    ...      \n",
       "\n",
       "   MT6_OTHERS  MT7  MT7A  MT7A_OTHERS  MT8   MT9  MT9_OTHERS  row_nulls  \\\n",
       "0          -1  2.0   NaN           -1  NaN  12.0          -1        630   \n",
       "1          -1  NaN   NaN           -1  NaN   NaN          -1        689   \n",
       "\n",
       "   test_id  train_id  \n",
       "0      0.0       NaN  \n",
       "1      1.0       NaN  \n",
       "\n",
       "[2 rows x 1236 columns]"
      ]
     },
     "execution_count": 226,
     "metadata": {},
     "output_type": "execute_result"
    }
   ],
   "source": [
    "test_df.head(2)"
   ]
  },
  {
   "cell_type": "code",
   "execution_count": 227,
   "metadata": {},
   "outputs": [
    {
     "data": {
      "text/plain": [
       "0       NaN\n",
       "1       NaN\n",
       "2       NaN\n",
       "3       NaN\n",
       "4       NaN\n",
       "5       NaN\n",
       "6       NaN\n",
       "7       NaN\n",
       "8       NaN\n",
       "9       NaN\n",
       "10      NaN\n",
       "11      NaN\n",
       "12      NaN\n",
       "13      NaN\n",
       "14      NaN\n",
       "15      NaN\n",
       "16      NaN\n",
       "17      NaN\n",
       "18      NaN\n",
       "19      NaN\n",
       "20      NaN\n",
       "21      NaN\n",
       "22      NaN\n",
       "23      NaN\n",
       "24      NaN\n",
       "25      NaN\n",
       "26      NaN\n",
       "27      NaN\n",
       "28      NaN\n",
       "29      NaN\n",
       "         ..\n",
       "27255   NaN\n",
       "27256   NaN\n",
       "27257   NaN\n",
       "27258   NaN\n",
       "27259   NaN\n",
       "27260   NaN\n",
       "27261   NaN\n",
       "27262   NaN\n",
       "27263   NaN\n",
       "27264   NaN\n",
       "27265   NaN\n",
       "27266   NaN\n",
       "27267   NaN\n",
       "27268   NaN\n",
       "27269   NaN\n",
       "27270   NaN\n",
       "27271   NaN\n",
       "27272   NaN\n",
       "27273   NaN\n",
       "27274   NaN\n",
       "27275   NaN\n",
       "27276   NaN\n",
       "27277   NaN\n",
       "27278   NaN\n",
       "27279   NaN\n",
       "27280   NaN\n",
       "27281   NaN\n",
       "27282   NaN\n",
       "27283   NaN\n",
       "27284   NaN\n",
       "Name: is_female, Length: 27285, dtype: float64"
      ]
     },
     "execution_count": 227,
     "metadata": {},
     "output_type": "execute_result"
    }
   ],
   "source": [
    "test_target"
   ]
  },
  {
   "cell_type": "code",
   "execution_count": 149,
   "metadata": {},
   "outputs": [],
   "source": [
    "prediction = zip(test_df['test_id'].astype(int), [float(i[1]) for i in res_proba])\n"
   ]
  },
  {
   "cell_type": "code",
   "execution_count": 150,
   "metadata": {},
   "outputs": [],
   "source": [
    "pd.DataFrame(prediction, columns=['test_id', 'is_female']).set_index('test_id').to_csv('predictions.csv')"
   ]
  },
  {
   "cell_type": "code",
   "execution_count": null,
   "metadata": {
    "collapsed": true
   },
   "outputs": [],
   "source": []
  },
  {
   "cell_type": "code",
   "execution_count": null,
   "metadata": {
    "collapsed": true
   },
   "outputs": [],
   "source": []
  },
  {
   "cell_type": "code",
   "execution_count": null,
   "metadata": {
    "collapsed": true
   },
   "outputs": [],
   "source": []
  },
  {
   "cell_type": "code",
   "execution_count": null,
   "metadata": {
    "collapsed": true
   },
   "outputs": [],
   "source": []
  },
  {
   "cell_type": "markdown",
   "metadata": {},
   "source": [
    "## Further data prep/analysis/feature engienering\n"
   ]
  },
  {
   "cell_type": "code",
   "execution_count": 151,
   "metadata": {
    "collapsed": true
   },
   "outputs": [],
   "source": [
    "train_df = pd.read_csv(train, low_memory=False)\n"
   ]
  },
  {
   "cell_type": "code",
   "execution_count": 162,
   "metadata": {},
   "outputs": [
    {
     "name": "stdout",
     "output_type": "stream",
     "text": [
      "AA3 0\n",
      "AA5 12602\n",
      "AA6 5653\n"
     ]
    },
    {
     "data": {
      "image/png": "[encoded data removed]",
      "text/plain": [
       "<matplotlib.figure.Figure at 0x1115da510>"
      ]
     },
     "metadata": {},
     "output_type": "display_data"
    }
   ],
   "source": [
    "location=['AA3', 'AA5', 'AA6']\n",
    "loc_df = train_df[location]\n",
    "\n",
    "for col in location:\n",
    "    d = loc_df[col]\n",
    "    print col, d.isnull().sum()\n",
    "    loc_df[col].hist()\n",
    "    \n",
    "plt.legend()"
   ]
  },
  {
   "cell_type": "code",
   "execution_count": 165,
   "metadata": {},
   "outputs": [
    {
     "data": {
      "text/plain": [
       "array([[<matplotlib.axes._subplots.AxesSubplot object at 0x118ed4cd0>,\n",
       "        <matplotlib.axes._subplots.AxesSubplot object at 0x1187b1650>],\n",
       "       [<matplotlib.axes._subplots.AxesSubplot object at 0x119779fd0>,\n",
       "        <matplotlib.axes._subplots.AxesSubplot object at 0x1187d0150>]], dtype=object)"
      ]
     },
     "execution_count": 165,
     "metadata": {},
     "output_type": "execute_result"
    },
    {
     "data": {
      "image/png": "[encoded data removed]",
      "text/plain": [
       "<matplotlib.figure.Figure at 0x1196e7210>"
      ]
     },
     "metadata": {},
     "output_type": "display_data"
    },
    {
     "data": {
      "image/png": "[encoded data removed]",
      "text/plain": [
       "<matplotlib.figure.Figure at 0x11837f310>"
      ]
     },
     "metadata": {},
     "output_type": "display_data"
    },
    {
     "data": {
      "image/png": "[encoded data removed]",
      "text/plain": [
       "<matplotlib.figure.Figure at 0x118ec1b10>"
      ]
     },
     "metadata": {},
     "output_type": "display_data"
    },
    {
     "data": {
      "image/png": "[encoded data removed]",
      "text/plain": [
       "<matplotlib.figure.Figure at 0x118ec1c10>"
      ]
     },
     "metadata": {},
     "output_type": "display_data"
    }
   ],
   "source": [
    "loc_df[loc_df['AA3']==1].hist()\n",
    "loc_df[loc_df['AA3']==2].hist()\n",
    "loc_df[loc_df['AA3']==3].hist()\n",
    "loc_df[loc_df['AA3']==4].hist()"
   ]
  },
  {
   "cell_type": "code",
   "execution_count": 168,
   "metadata": {},
   "outputs": [],
   "source": [
    "category_cols = train_df.select_dtypes(exclude=[np.number]).columns.tolist()\n"
   ]
  },
  {
   "cell_type": "code",
   "execution_count": 169,
   "metadata": {},
   "outputs": [
    {
     "data": {
      "text/plain": [
       "['DG3A_OTHERS',\n",
       " 'DG13_OTHERS',\n",
       " 'DG14_OTHERS',\n",
       " 'DL1_OTHERS',\n",
       " 'DL2_23_OTHERS',\n",
       " 'DL2_96_OTHERS',\n",
       " 'DL4_OTHERS',\n",
       " 'DL12_OTHERS',\n",
       " 'DL28_OTHERS',\n",
       " 'G2P1_OTHERS',\n",
       " 'G2P2_1_OTHERS',\n",
       " 'G2P2_4_OTHERS',\n",
       " 'G2P2_6_OTHERS',\n",
       " 'G2P2_7_OTHERS',\n",
       " 'G2P2_8_OTHERS',\n",
       " 'G2P2_9_OTHERS',\n",
       " 'G2P2_11_OTHERS',\n",
       " 'G2P2_13_OTHERS',\n",
       " 'G2P2_14_OTHERS',\n",
       " 'G2P2_16_OTHERS',\n",
       " 'G2P2_96_OTHERS',\n",
       " 'MT5_OTHERS',\n",
       " 'MT6_OTHERS',\n",
       " 'MT6A_OTHERS',\n",
       " 'MT6B_OTHERS',\n",
       " 'MT7A_OTHERS',\n",
       " 'MT9_OTHERS',\n",
       " 'MT12_OTHERS',\n",
       " 'MT13_1_OTHERS',\n",
       " 'MT13_2_OTHERS',\n",
       " 'MT13_3_OTHERS',\n",
       " 'MT13_7_OTHERS',\n",
       " 'MT13_9_OTHERS',\n",
       " 'MT13_11_OTHERS',\n",
       " 'MT14B_OTHERS',\n",
       " 'MT16_OTHERS',\n",
       " 'MT18_OTHERS',\n",
       " 'FF2A_OTHERS',\n",
       " 'FF3_OTHERS',\n",
       " 'FF7_OTHERS',\n",
       " 'FF10_OTHERS',\n",
       " 'FF14_OTHERS',\n",
       " 'MM2_OTHERS',\n",
       " 'MM11_2_OTHERS',\n",
       " 'MM11_13_OTHERS',\n",
       " 'MM12_OTHERS',\n",
       " 'MM12_REC',\n",
       " 'MM13_OTHERS',\n",
       " 'MM13_REC',\n",
       " 'MM14_OTHERS',\n",
       " 'MM24_OTHERS',\n",
       " 'MM28_OTHERS',\n",
       " 'MM36_OTHERS',\n",
       " 'MM37_OTHERS',\n",
       " 'MM41_OTHERS',\n",
       " 'MMP1_OTHERS',\n",
       " 'IFI10_OTHERS',\n",
       " 'IFI11_OTHERS',\n",
       " 'IFI12_OTHERS',\n",
       " 'IFI16_1_OTHERS',\n",
       " 'IFI16_2_OTHERS',\n",
       " 'IFI16_3_OTHERS',\n",
       " 'IFI16_6_OTHERS',\n",
       " 'IFI16_7_OTHERS',\n",
       " 'IFI21_OTHERS',\n",
       " 'IFI24_OTHERS',\n",
       " 'FL3_OTHERS',\n",
       " 'FL4_OTHERS',\n",
       " 'FL9A_OTHERS',\n",
       " 'FL9B_OTHERS',\n",
       " 'FL10_OTHERS',\n",
       " 'FB4_OTHERS',\n",
       " 'FB16_5_OTHERS',\n",
       " 'FB16_96_OTHERS',\n",
       " 'FB19_96_OTHERS',\n",
       " 'FB19_6_OTHERS',\n",
       " 'FB19A_OTHERS',\n",
       " 'FB19B_OTHERS',\n",
       " 'FB22_7_OTHERS',\n",
       " 'FB22_96_OTHERS',\n",
       " 'FB24_OTHERS',\n",
       " 'FB25_OTHERS',\n",
       " 'FB26_OTHERS',\n",
       " 'FB27_OTHERS',\n",
       " 'FB28_1_OTHERS',\n",
       " 'FB28_2_OTHERS',\n",
       " 'FB28_4_OTHERS',\n",
       " 'FB28_96_OTHERS',\n",
       " 'FB29_OTHERS',\n",
       " 'LN2_RIndLngBEOth',\n",
       " 'LN2_WIndLngBEOth',\n",
       " 'GN1_OTHERS',\n",
       " 'GN2_OTHERS',\n",
       " 'GN3_OTHERS',\n",
       " 'GN4_OTHERS',\n",
       " 'GN5_OTHERS']"
      ]
     },
     "execution_count": 169,
     "metadata": {},
     "output_type": "execute_result"
    }
   ],
   "source": [
    "category_cols"
   ]
  },
  {
   "cell_type": "code",
   "execution_count": 171,
   "metadata": {},
   "outputs": [
    {
     "data": {
      "text/plain": [
       "((18255, 1235), 96)"
      ]
     },
     "execution_count": 171,
     "metadata": {},
     "output_type": "execute_result"
    }
   ],
   "source": [
    "train_df.shape, len(category_cols)"
   ]
  },
  {
   "cell_type": "code",
   "execution_count": 174,
   "metadata": {
    "scrolled": false
   },
   "outputs": [
    {
     "name": "stdout",
     "output_type": "stream",
     "text": [
      " DG3A_OTHERS 18205 (array([nan, 'Dubali caste', 'Jainism', 'Matang', 'Sanamahism', 'Sarna',\n",
      "       'Wadar'], dtype=object), array([18205,     8,     4,     7,    23,     7,     1]))\n",
      "DG13_OTHERS 18246 (array([nan, 'Delay in depositing fee', 'NGO', 'We cannot give school fees'], dtype=object), array([18246,     7,     1,     1]))\n",
      "DG14_OTHERS 18222 (array([nan, 'Child goes to Anganwadi center', 'Child goes to kindergarden',\n",
      "       'Child is too young', 'Family does not allow',\n",
      "       'No school in village', 'School did not give admission',\n",
      "       'School is too far from home', 'Village has school only till 8th'], dtype=object), array([18222,     5,     1,    15,     1,     1,     3,     5,     2]))\n",
      "DL1_OTHERS 17974 (array([nan, 'Agriculture', 'Agriculture coolie', 'Anganwadi teacher',\n",
      "       'Anganwadi worker', 'Auto driver', 'Bidi maker', 'Cloth washer',\n",
      "       'Company worker', 'Contractor', 'Coolie', 'Daily Labour', 'Doctor',\n",
      "       'Driver', 'Factory worker', 'Farm worker', 'Farmer', 'Farming',\n",
      "       'Father', 'Furniture', 'Garlic salesman', 'Government employee',\n",
      "       'Government job', 'Government scheme', 'Gram sevak', 'Handicraft',\n",
      "       'Hawker', 'Helper', 'Hotel', 'Hotel job', 'House wife',\n",
      "       'Household work', 'Husband pension', 'Labourer', 'Lake work',\n",
      "       'MGNREGA', 'Majduri', 'Mason', 'Milk business', 'Milk dairy',\n",
      "       'Niradhar', 'No work', 'Not educated', 'Not work', 'Not working',\n",
      "       'Not working due to old age', 'Notice maker', 'Own business',\n",
      "       'Pandal', 'Pension', 'Petty traders', 'Plastic work', 'Police',\n",
      "       'Poultry business', 'Priest', 'Private tutor', 'Property dealing',\n",
      "       'Retired', 'Rickshaw driver', 'Salesman', 'School teacher',\n",
      "       'Service', 'Shares trading', 'Shop owner', 'Shop worker',\n",
      "       'Skilled worker', 'Student', 'Sugar mill worker', 'Tailor',\n",
      "       'Teacher', 'Transport', 'Unemployed', 'Vegetable seller',\n",
      "       'Vikas mitra', 'Water company', 'Weaver', 'Worker', 'cooking',\n",
      "       'cultivator', 'family business', 'family support', 'pooja', 'water'], dtype=object), array([17974,     2,     1,     1,     1,     5,     6,     2,     1,\n",
      "           2,     2,     2,     1,    11,     2,     6,    21,    16,\n",
      "           1,     1,     1,     1,     2,     1,     1,     1,     1,\n",
      "           1,     3,     1,    18,     3,     1,    48,     1,     1,\n",
      "           1,     4,     1,     1,     1,     5,     1,     1,     1,\n",
      "           3,     1,    14,     1,     4,     1,     1,     1,     1,\n",
      "           1,     1,     1,     1,     1,     1,     2,     1,     1,\n",
      "          16,     1,     2,     9,     1,     6,     1,     1,     8,\n",
      "           1,     1,     1,     4,     1,     1,     1,     1,     1,\n",
      "           1,     1]))\n",
      "DL2_23_OTHERS 18153 (array([nan, 'Artist', 'Brick making', 'Bucket seller',\n",
      "       'Building contractor', 'Car Business', 'Caterer',\n",
      "       'Civil contractor', 'Cloth Business', 'Cloth Presser',\n",
      "       'Cold water business', 'Contractor', 'Curd Business',\n",
      "       'Electrical contractor', 'Fastfood business', 'Fish Culture',\n",
      "       'Fish business', 'Fish culture', 'Flower business',\n",
      "       'Fruit Supplier', 'Garments Business', 'Garments business',\n",
      "       'Goldsmith', 'Gym', 'Hawker', 'Hotel', 'Insurance', 'Iron business',\n",
      "       'Job work', 'Lorry owner', 'Manufacturer', 'Milk Business',\n",
      "       'Milk business', 'Milkman', 'Mill', 'Own Business', 'Own buiness',\n",
      "       'Own business', 'Petty trader', 'Pulses business', 'Real estate',\n",
      "       'Rice business', 'Ship business', 'Silver Business',\n",
      "       'Silver business', 'Tea Stall owner', 'Tile making', 'Trader',\n",
      "       'Travel business', 'Vegetable seller', 'Vodafone Distributor',\n",
      "       'Water seller', 'Weaver', 'Welding business', 'vegetable seller'], dtype=object), array([18153,     1,     1,     1,     2,     1,     2,     1,     1,\n",
      "           1,     1,     5,     1,     1,     1,     1,     1,     1,\n",
      "           1,     1,     1,     2,     3,     1,     2,     1,     1,\n",
      "           1,     2,     1,     1,     2,     4,     1,     1,     6,\n",
      "           1,    25,     1,     1,     1,     1,     1,     1,     1,\n",
      "           1,     1,     2,     2,     3,     1,     1,     1,     1,     1]))\n",
      "DL2_96_OTHERS 18021 (array([nan, 'Advocate', 'Anganwadi teacher', 'Anganwadi worker',\n",
      "       'Asha didi', 'Asha worker', 'Attendant', 'BMC worker', 'Bar',\n",
      "       'Barber', 'Beauty parlour', 'Bidi maker', 'Book order', 'Carpenter',\n",
      "       'Cart puller', 'Catering', 'Cattle breeding', 'Cloth finishing',\n",
      "       'Cloth seller', 'Cloth shop worker', 'Cloth washer', 'Cobler',\n",
      "       'Coconut work', 'Collection work', 'Commission agent', 'Compounder',\n",
      "       'Coolie', 'DTP Designer', 'Dealer', 'Designer', 'Doctor', 'Driver',\n",
      "       'Engineer', 'Feri', 'Firsherman', 'Fish', 'Fish market',\n",
      "       'Fisherman', 'Fitter', 'Flour mill worker', 'Foreman', 'Freelancer',\n",
      "       'Gardner', 'Goat owner', 'Gold smith worker', 'Government job',\n",
      "       'Government school job', 'Hawker', 'High school record assistant',\n",
      "       'Hotel job', 'House wife', 'Imaam', 'Irrigation department',\n",
      "       'Journalist', 'Lake work', 'Laundry', 'Lecturer',\n",
      "       'Livestock reering', 'Loco pilot', 'Machine operator',\n",
      "       'Marriage related work', 'Mid day meal cook', 'Milk Seller', 'Navy',\n",
      "       'Own Business', 'Painter', 'Pathology', 'Petrol pump worker',\n",
      "       'Photographer', 'Plumber', 'Potter', 'Pradhan', 'Priest',\n",
      "       'Private sector job', 'Provident Fund department', 'Railway job',\n",
      "       'Sandal maker', 'School worker', 'Shephard', 'Singer',\n",
      "       'Singer trainer', 'Skilled labour', 'Snake charmer',\n",
      "       'Software work', 'Spiritual person', 'Student', 'Superviser',\n",
      "       'Tax collector', 'Teacher', 'Tiles worker', 'Tinger worker',\n",
      "       'Vegetable seller', 'Waterman', 'Weaver', 'Worker'], dtype=object), array([18021,     1,     1,     8,     1,     3,     1,     1,     1,\n",
      "           2,     2,    15,     1,     1,     1,     2,     1,     1,\n",
      "           1,     1,     6,     2,     1,     1,     1,     1,    14,\n",
      "           1,     2,     1,     1,     1,     4,     1,     1,     1,\n",
      "           1,     5,     1,     1,     1,     1,     1,     1,     1,\n",
      "           3,     1,     1,     1,     3,    13,     1,     1,     2,\n",
      "           2,     1,     1,     1,     1,     1,     2,     1,     1,\n",
      "           1,     1,     9,     1,     1,     1,     2,     2,     1,\n",
      "           4,    16,     1,     2,     1,     1,     2,     1,     1,\n",
      "           2,     1,     2,     1,    11,     4,     1,    14,     1,\n",
      "           1,     1,     1,    10,     2]))\n",
      "DL4_OTHERS 17947 (array([nan, '100 days labourer', 'Advocate', 'Agricultural coolie',\n",
      "       'Anganwadi worker', 'Animal care taker', 'Asha worker',\n",
      "       'Auto driver', 'Begger', 'Bidi maker', 'Blood collector',\n",
      "       'Building work', 'Bus contractor', 'Cable connection operater',\n",
      "       'Carpenter', 'Cashew Cleaner', 'Catering server', 'Centring',\n",
      "       'Cloth business', 'Cloth washer', 'Clothshop worker', 'Collie',\n",
      "       'Cooking', 'Curd business', 'Dhanlakshmi Scheme', 'Doctor',\n",
      "       'Driver', 'Electrician', 'Fisherman', 'Fruit seller', 'Gas Subsidy',\n",
      "       'Gas subsidy', 'Government', 'Government cloth scheme',\n",
      "       'Government pension', 'Grocer', 'Handicapp pension', 'Handicapped',\n",
      "       'Helper', 'Helps son', 'Hospital job', 'Hotel Server', 'Labourer',\n",
      "       'Mahajan', 'Mamata yojana', 'Mason', 'Mechanic', 'Milk business',\n",
      "       'Not working', 'Nurse', 'Old age pension', 'Own business',\n",
      "       'Painter', 'Pathology', 'Pension', 'Post office', 'Potter',\n",
      "       'Pradhanmantri yojana', 'Priest', 'Private sector job',\n",
      "       'RMP Doctor', 'RPM Doctor', 'Railway labourer', 'Repair work',\n",
      "       'Rickshaw driver', 'Safari job', 'Salesman', 'Saleswoman', 'Salon',\n",
      "       'Salt seller', 'Saving', 'School Teacher', 'School canteen cook',\n",
      "       'Security guard', 'Selfemployed', 'Sells cold drinks',\n",
      "       'Shop Salesman', 'Shop owner', 'Shop worker', 'Skilled worker',\n",
      "       'Snacks business', 'Snake charmer', 'Spiritual person', 'Student',\n",
      "       'Student Private Firm', 'Tailor', 'Tailoring Work', 'Teacher',\n",
      "       'Tractor Driver', 'Transport', 'Tuition Teacher', 'Unemployed',\n",
      "       'Unskilled worker', 'Vegetable seller', 'Vikas mitra', 'Water sale',\n",
      "       'Weaver', 'Welder', 'Widow pension', 'Wife working', 'Wood cutter',\n",
      "       'Woodwork', 'cycle repair shop'], dtype=object), array([17947,     1,     1,     1,     2,     1,     1,     5,     1,\n",
      "           8,     1,     1,     1,     1,     3,     1,     1,     2,\n",
      "           1,     1,     1,     4,     1,     1,     1,     1,    22,\n",
      "           2,     1,     1,     1,     7,     1,     1,     1,     1,\n",
      "           1,     1,     2,     1,     1,     1,    80,     1,     1,\n",
      "          10,     1,     1,     1,     1,     4,     7,     2,     1,\n",
      "           1,     1,     2,     1,     6,     7,     1,     1,     1,\n",
      "           1,     2,     1,     1,     1,     2,     1,     1,     1,\n",
      "           1,     1,     1,     1,     1,    24,     1,     3,     2,\n",
      "           1,     1,     2,     1,     2,     2,     4,     2,     1,\n",
      "           4,     5,     1,     1,     1,     1,     4,     1,     5,\n",
      "           1,     1,     1,     1]))\n",
      "DL12_OTHERS 18238 (array([nan, 'Cultivation work', 'Divorce', 'Due to Retirement',\n",
      "       'Due to illness', 'Due to marriage', 'Due to theft', 'Family issue',\n",
      "       'For education', 'House maintenance', 'House was uncomfortable',\n",
      "       \"Husband's Death\", \"Moved to Sons's home\",\n",
      "       'Needed space for livestock', 'Touring'], dtype=object), array([18238,     1,     1,     1,     1,     1,     1,     3,     2,\n",
      "           1,     1,     1,     1,     1,     1]))\n",
      "DL28_OTHERS 18249 (array([nan, 'By Studying', 'Government did not help',\n",
      "       'Havnt been able to pay yet', 'Labour work', 'Received no help'], dtype=object), array([18249,     1,     1,     1,     2,     1]))\n",
      "G2P1_OTHERS 18182 (array([nan, 'Agriculture pension', 'Anganwadi worker',\n",
      "       'Armed force pension', 'At the time of child birth',\n",
      "       'College scholarship', 'Cycle Vitran Yojna', 'Dwakra Abhaya Hastam',\n",
      "       'Gas subsidy', 'Government Scholarship', 'Government job payment',\n",
      "       'Government job pension', 'Government pension',\n",
      "       'Government teacher job', 'Haryana Government',\n",
      "       'I don\\xc2\\x92t know', 'Janani Suraksha Yojana', 'Job',\n",
      "       'Job pension', 'Kanyashree', 'Mahamaya pension', 'Mamata yojana',\n",
      "       'Mango yojana', 'Mulayam pension', 'Niradhar',\n",
      "       'Pension for cancer patient', 'Railway pension',\n",
      "       'Received in marriage', 'Retirement pension', 'Samajvadi pension',\n",
      "       'Sharvan Bal Yojna', 'Subsidy', 'Tailor pension', 'Teacher pension',\n",
      "       'Ujvala Yojana', 'Unemployment Scheme', 'Vetenary Job'], dtype=object), array([18182,     1,     1,     1,     1,     1,     1,     1,     1,\n",
      "           1,     2,     1,     3,     2,     1,     1,     1,     1,\n",
      "           1,     1,     1,     1,     1,     1,     1,     1,     1,\n",
      "           1,     7,    27,     1,     1,     1,     2,     1,     1,     1]))\n",
      "G2P2_1_OTHERS 18246 (array([nan, 'None', 'Product was directly given', 'Rice was given',\n",
      "       'Wheat was given'], dtype=object), array([18246,     3,     2,     3,     1]))\n"
     ]
    },
    {
     "name": "stdout",
     "output_type": "stream",
     "text": [
      "G2P2_4_OTHERS 18254 (array([nan, 'Karma Chavadi'], dtype=object), array([18254,     1]))\n",
      "G2P2_6_OTHERS 18253 (array([nan, 'I don\\xc2\\x92t know', 'Not received yet'], dtype=object), array([18253,     1,     1]))\n",
      "G2P2_7_OTHERS 18253 (array([nan, 'I don\\xc2\\x92t know'], dtype=object), array([18253,     2]))\n",
      "G2P2_8_OTHERS 18251 (array([nan, 'I don\\xc2\\x92t know', 'Money is not given for this scheme'], dtype=object), array([18251,     3,     1]))\n",
      "G2P2_9_OTHERS 18250 (array([nan, 'I don\\xc2\\x92t know'], dtype=object), array([18250,     5]))\n",
      "G2P2_11_OTHERS 18251 (array([nan, 'Bank agent', 'I don\\xc2\\x92t know'], dtype=object), array([18251,     1,     3]))\n",
      "G2P2_13_OTHERS 18250 (array([nan, 'Cash from school', 'Cheque', 'I don\\xc2\\x92t know'], dtype=object), array([18250,     1,     2,     2]))\n",
      "G2P2_14_OTHERS 18254 (array([nan, 'College'], dtype=object), array([18254,     1]))\n",
      "G2P2_16_OTHERS 18254 (array([nan, 'Through treasury'], dtype=object), array([18254,     1]))\n",
      "G2P2_96_OTHERS 18253 (array([nan, 'I don\\xc2\\x92t know', 'Through treasury'], dtype=object), array([18253,     1,     1]))\n",
      "MT5_OTHERS 18246 (array([nan, 'Work', 'for information', 'none', 'phone feature',\n",
      "       'recevied from relative', 'work'], dtype=object), array([18246,     1,     3,     1,     2,     1,     1]))\n",
      "MT6_OTHERS 18244 (array([nan, 'Friend gave it to me', 'Gift', 'Government',\n",
      "       'Owner gave a mobile phone', 'office phone'], dtype=object), array([18244,     5,     2,     1,     1,     2]))\n",
      "MT6A_OTHERS 18230 (array([nan, '1 day', '2 days', '3 days', '4 days'], dtype=object), array([18230,     4,    14,     6,     1]))\n",
      "MT6B_OTHERS 18254 (array([nan, 'In Hotel'], dtype=object), array([18254,     1]))\n",
      "MT7A_OTHERS 18240 (array([nan, 'brother in law', 'daughter in law', 'father in law',\n",
      "       'grand son', 'mother in law', 'other relative'], dtype=object), array([18240,     2,     3,     4,     1,     2,     3]))\n",
      "MT9_OTHERS 18234 (array([nan, 'Handicapped', 'Student', 'not required',\n",
      "       'use common phone in home'], dtype=object), array([18234,     1,     2,     2,    16]))\n",
      "MT12_OTHERS 18233 (array([nan, 'I don\\xc2\\x92t know', 'Landline', 'Reliance jio', 'Smart'], dtype=object), array([18233,     4,     1,    14,     3]))\n",
      "MT13_1_OTHERS 18254 (array([nan, 'To use internet'], dtype=object), array([18254,     1]))\n",
      "MT13_2_OTHERS 18249 (array([nan, 'Facilities', 'For TV USE', 'It was a gift',\n",
      "       'My spouse bought it for me', 'Recharge card is easily available',\n",
      "       'To use internet'], dtype=object), array([18249,     1,     1,     1,     1,     1,     1]))\n",
      "MT13_3_OTHERS 18253 (array([nan, 'Received from government', 'Roaming was free'], dtype=object), array([18253,     1,     1]))\n",
      "MT13_7_OTHERS 18252 (array([nan, 'For office use', 'It came with the phone',\n",
      "       'My brother gave it to me'], dtype=object), array([18252,     1,     1,     1]))\n",
      "MT13_9_OTHERS 18254 (array([nan, 'To use 3G service'], dtype=object), array([18254,     1]))\n",
      "MT13_11_OTHERS 18253 (array([nan, 'To use internet', 'Used vodafone for many years'], dtype=object), array([18253,     1,     1]))\n",
      "MT14B_OTHERS 18254 (array([nan, 'Reliance jio'], dtype=object), array([18254,     1]))\n",
      "MT16_OTHERS 18253 (array([nan, 'Retailer', 'Without documents'], dtype=object), array([18253,     1,     1]))\n",
      "MT18_OTHERS 18199 (array([nan, 'Children', 'Don\\xc2\\x92t know', 'Family member',\n",
      "       'Mobile phone service center/customer care', 'NEIGHBOUR'], dtype=object), array([18199,    23,     4,    10,    17,     2]))\n",
      "FF2A_OTHERS 18135 (array([nan, 'Bank employee', 'Bank loan', 'Cattle loan',\n",
      "       'College Scholarship', 'Company opened account', 'For Business',\n",
      "       'For Future', \"For Husband's Business\", 'For ID proof',\n",
      "       \"For Son's education\", 'For children', 'For college',\n",
      "       'For getting adhaar card', 'Gold safety', 'High school Scholarship',\n",
      "       'I don\\xc2\\x92t know', 'It was a joint account', 'Jewellery loan',\n",
      "       'No specific reason', 'Pradhan Mantri Jan Dhan Yojna',\n",
      "       'Scholarship', 'School Scholarship', 'Student account',\n",
      "       'Study purpose', 'To change old currency', 'To get a loan',\n",
      "       'To get insurance payment', 'To pay Insurance premium',\n",
      "       'Zero balance account'], dtype=object), array([18135,     1,     1,     1,     1,     1,     1,     1,     1,\n",
      "           1,     1,     2,     1,     1,     1,     1,    24,     1,\n",
      "           2,     3,    14,    19,     1,    24,     1,     1,     4,\n",
      "           4,     1,     5]))\n",
      "FF3_OTHERS 18248 (array([nan, 'Below 18 years', 'I closed my account',\n",
      "       'I have a joint account', 'I have a joint account with my father',\n",
      "       'No specific reason', 'Not received passbook'], dtype=object), array([18248,     1,     1,     2,     1,     1,     1]))\n",
      "FF7_OTHERS 18247 (array([nan, 'Kisan credit card (kcc)', 'Loan account', 'Old age pension',\n",
      "       'Pension', 'Pradhan mantri jan dhan yojana', 'Student scholarship',\n",
      "       'Widow pension'], dtype=object), array([18247,     1,     2,     1,     1,     1,     1,     1]))\n",
      "FF10_OTHERS 18250 (array([nan, 'Gas Subsidy money', 'Medical', 'To change old currency',\n",
      "       'Update pass book', 'my husband does banking activities'], dtype=object), array([18250,     1,     1,     1,     1,     1]))\n",
      "FF14_OTHERS 18229 (array([nan, \"Daughter's marriage\", 'Deposited a cheque', 'Gas payment',\n",
      "       'Gas subsidy', 'Gold loan', 'Husband death', 'Jewellery loan',\n",
      "       'LPG Subsidy', 'Loan', 'Medicine', 'Opened a account',\n",
      "       'Opened another account', \"Opened my wife's account\",\n",
      "       'To change old currency', 'information'], dtype=object), array([18229,     1,     1,     1,     1,     1,     1,     1,     2,\n",
      "           1,     1,     6,     1,     1,     6,     1]))\n",
      "MM2_OTHERS 18254 (array([nan, 'None'], dtype=object), array([18254,     1]))\n",
      "MM11_2_OTHERS 18253 (array([nan, 'None', 'Recharge'], dtype=object), array([18253,     1,     1]))\n",
      "MM11_13_OTHERS 18254 (array([nan, 'None'], dtype=object), array([18254,     1]))\n",
      "MM12_OTHERS 18243 (array([nan, 'I Use bank App', 'I done have a mobile phone',\n",
      "       'I don\\xc2\\x92t have a mobile phone', \"I use my son's account\",\n",
      "       'No specific reason'], dtype=object), array([18243,     1,     1,     1,     1,     8]))\n",
      "MM12_REC 17183 (array([nan, 'Bank is better', 'Cant remember password',\n",
      "       'Don\\xc2\\x92t have these sim cards', 'Don\\xc2\\x92t use internet',\n",
      "       'Fees for using is too high', 'I am not using this provider',\n",
      "       'I cannot use mobile money service on my phone',\n",
      "       'I did not have any ID proof',\n",
      "       'I don\\xc2\\x92t  know about mobile money service',\n",
      "       'I don\\xc2\\x92t have enough money', 'I don\\xc2\\x92t have phone',\n",
      "       'I don\\xc2\\x92t have time',\n",
      "       'I don\\xc2\\x92t know hot to open an account',\n",
      "       'I don\\xc2\\x92t know how to open an account',\n",
      "       'I don\\xc2\\x92t know how to use',\n",
      "       'I don\\xc2\\x92t like mobile money service',\n",
      "       'I don\\xc2\\x92t need to use mobile money',\n",
      "       'I don\\xc2\\x92t trust mobile money service',\n",
      "       'I have to pay commision when sending money through mpesa',\n",
      "       'I use bank account', \"I use my son's account\",\n",
      "       'No Point of service/agent in my area', 'No need', 'No net option',\n",
      "       'No specific reason', 'None of my friends/family use it',\n",
      "       'Paper work is complicated', 'Student',\n",
      "       'Using mobile money is difficult'], dtype=object), array([17183,     1,     1,     1,     1,     3,     1,     8,     1,\n",
      "         702,    15,     4,     3,    15,     1,    20,    12,     9,\n",
      "          15,     1,     3,     1,    12,   228,     1,     3,     2,\n",
      "           1,     1,     6]))\n",
      "MM13_OTHERS 18254 (array([nan, 'No specific reason'], dtype=object), array([18254,     1]))\n",
      "MM13_REC 18204 (array([nan, 'Another family member uses it',\n",
      "       'I do not make any transactions', 'I don\\xc2\\x92t have an account',\n",
      "       'I don\\xc2\\x92t have money',\n",
      "       'I don\\xc2\\x92t know about mobile money',\n",
      "       'I don\\xc2\\x92t know how to use',\n",
      "       'I don\\xc2\\x92t like mobile money service',\n",
      "       'I don\\xc2\\x92t like to use it much',\n",
      "       'I have already used my account', 'I have not used it',\n",
      "       'It is difficult to use', 'It takes a lot of time', 'No need',\n",
      "       'No specific reason', 'Recharge', 'Service not available in my area'], dtype=object), array([18204,     1,     1,     1,     1,     1,     4,     1,     1,\n",
      "           1,     1,     2,     1,     4,    29,     1,     1]))\n",
      "MM14_OTHERS 18253 (array([nan, 'For Dish and Mobile recharge', 'Nothing'], dtype=object), array([18253,     1,     1]))\n",
      "MM24_OTHERS 18254 (array([nan, 'No one'], dtype=object), array([18254,     1]))\n",
      "MM28_OTHERS 18252 (array([nan, 'I don\\xc2\\x92t use it now'], dtype=object), array([18252,     3]))\n",
      "MM36_OTHERS 18250 (array([nan, 'None', 'Other'], dtype=object), array([18250,     4,     1]))\n",
      "MM37_OTHERS 18251 (array([nan, 'I can go to retailer', 'None', 'Other'], dtype=object), array([18251,     1,     2,     1]))\n",
      "MM41_OTHERS 18254 (array([nan, 'None'], dtype=object), array([18254,     1]))\n",
      "MMP1_OTHERS 18251 (array([nan, 'Flipkart', 'Husband uses', 'I don\\xc2\\x92t know',\n",
      "       'Shopping Zoin'], dtype=object), array([18251,     1,     1,     1,     1]))\n",
      "IFI10_OTHERS 18254 (array([nan, \"I don't know\"], dtype=object), array([18254,     1]))\n",
      "IFI11_OTHERS 18251 (array([nan, 'Nothing', 'To get old currency changed'], dtype=object), array([18251,     3,     1]))\n",
      "IFI12_OTHERS 18246 (array([nan, 'Closed my account', 'Nothing'], dtype=object), array([18246,     1,     8]))\n",
      "IFI16_1_OTHERS 18236 (array([nan, 'Both',\n",
      "       'I don\\xc2\\x92t know. I don\\xc2\\x92t personaly need to go to bank',\n",
      "       'Travel by boat'], dtype=object), array([18236,     2,    12,     5]))\n",
      "IFI16_2_OTHERS 18242 (array([nan, 'Both', 'I don\\xc2\\x92t know I don\\xc2\\x92t need to go to ATM',\n",
      "       'Travel by boat', 'travel by boat'], dtype=object), array([18242,     2,     8,     2,     1]))\n",
      "IFI16_3_OTHERS 18251 (array([nan, 'Both', 'I don\\xc2\\x92t know I don\\xc2\\x92t need to go to ATM'], dtype=object), array([18251,     2,     2]))\n",
      "IFI16_6_OTHERS 18253 (array([nan, 'Both'], dtype=object), array([18253,     2]))\n",
      "IFI16_7_OTHERS 18253 (array([nan, 'Both'], dtype=object), array([18253,     2]))\n",
      "IFI21_OTHERS 18254 (array([nan, 'to buy farm animals'], dtype=object), array([18254,     1]))\n",
      "IFI24_OTHERS 18247 (array([nan, 'I did not have an id card so I could not register',\n",
      "       'I don\\xc2\\x92t have time', 'My husband has a account',\n",
      "       'No transaction', 'Not allowed', 'Student'], dtype=object), array([18247,     1,     2,     1,     1,     2,     1]))\n",
      "FL3_OTHERS 18254 (array([nan, 'Only during festivals'], dtype=object), array([18254,     1]))\n",
      "FL4_OTHERS 18254 (array([nan, 'Pension'], dtype=object), array([18254,     1]))\n",
      "FL9A_OTHERS 18062 (array([nan, \"Daughter's marriage\", \"For Child's Marriage\", 'For Children',\n",
      "       \"For Children's Education\", 'For Competition', 'For Education',\n",
      "       'For Health Purposes', 'For House Maintenance', 'For Marriage',\n",
      "       'For Medical Treatment', \"For Sister's Marriage\",\n",
      "       'For Unexpected Events', 'For season', 'I am not able to save',\n",
      "       'I don\\xc2\\x92t have money', 'I don\\xc2\\x92t know',\n",
      "       'I don\\xc2\\x92t know I am a student', 'Marriage',\n",
      "       'Marriage in family', 'Open a shop', 'Shopping', 'To Buy Land',\n",
      "       'To Buy a bike', 'To Construct own House', 'To Pay School Fee',\n",
      "       'To set up new business'], dtype=object), array([18062,     1,    12,     1,     6,     1,    39,    41,     2,\n",
      "           1,     1,     1,     1,     4,     1,     2,    26,     1,\n",
      "           1,     3,     1,     1,     1,     2,    35,     1,     7]))\n",
      "FL9B_OTHERS 18114 (array([nan, \"Child's marriage\", \"Daughter's marriage\",\n",
      "       \"For Child's Education\", 'For Education', 'For Health Purposes',\n",
      "       'For House Maintenance', 'For House maintenance', 'For Villagers',\n",
      "       'For season', 'I don\\xc2\\x92t know',\n",
      "       'I don\\xc2\\x92t know I am a student', \"Mahesh's marriage\",\n",
      "       'Marriage', 'Marriage in family', \"Sister's marriage\",\n",
      "       'To Buy Books', 'To Buy a Tractor', 'To Construct own House',\n",
      "       'To buy a Mobile', 'To buy farm animals', 'To pay School Fee',\n",
      "       'To pay school fee', 'To set up a new business'], dtype=object), array([18114,     2,     4,     7,    21,    31,     1,     2,     1,\n",
      "           2,    32,     1,     1,     1,     6,     1,     1,     1,\n",
      "          21,     1,     1,     1,     1,     1]))\n",
      "FL10_OTHERS 18126 (array([nan, 'Business', 'Buy medicines', 'Care of own child', 'Charity',\n",
      "       'Child Education', 'Child Educational', 'Child education',\n",
      "       'Child marriage', 'Children education', \"Children's education\",\n",
      "       'Daily needs', \"Daughetr's marriage\", \"Daughter's education\",\n",
      "       \"Daughter's marriage\", 'Education', 'Family expenses', 'Festival',\n",
      "       'Government job', \"Grandson's job\", 'Household needs',\n",
      "       \"Husband's treatment\", 'I don\\xc2\\x92t have money',\n",
      "       'I want a better life', 'I want to go to punjab', 'Marriage',\n",
      "       'Marriage in family', 'Medical emergency', 'Medical expences',\n",
      "       'Medical insurance', 'Medical treatment',\n",
      "       'Need government help due to old age', 'Reading',\n",
      "       'Save for my child', 'Saving', 'Shopping', \"Son's operation\",\n",
      "       'To buy a book', 'To fulfill dreams', 'To get a job',\n",
      "       'To pay electricity bill', 'To remove poverty', 'Tuition Fee',\n",
      "       'better life', 'business', 'just hand to mouth'], dtype=object), array([18126,     2,     2,     1,     1,     3,     1,     2,    10,\n",
      "           3,     1,     1,     2,     3,    22,    10,     1,     3,\n",
      "           4,     1,     1,     1,     1,     1,     1,     5,    14,\n",
      "           1,     1,     1,     9,     1,     1,     1,     2,     1,\n",
      "           1,     1,     1,     5,     1,     1,     1,     1,     1,     1]))\n",
      "FB4_OTHERS 18195 (array([nan, 'Borrowed from family', 'Coluld not go', 'Did not allow',\n",
      "       'Do not need credit', 'Father doesn\\xc2\\x92t take loans',\n",
      "       'I borrowed money from family/friends',\n",
      "       'I did not require any loan', 'I did not require loan',\n",
      "       'I do not believe in borrowing money',\n",
      "       'I don\\xc2\\x92t require loan', 'Interest was high',\n",
      "       'Lender Refused', 'Lender did not have money',\n",
      "       'Lender refused to give loan', 'No Account', 'No trust',\n",
      "       'None of the above', 'Private', 'Was out of funds',\n",
      "       'did not apply for any loan', 'did not require loan',\n",
      "       'due to health issues', 'interest rates were too high',\n",
      "       'my husband does not allow to borrow money', 'unavailable money'], dtype=object), array([18195,     1,     1,     4,     1,     1,     6,     1,     1,\n",
      "           1,     1,     1,     2,     4,     6,     1,     1,     1,\n",
      "           1,     1,     7,    11,     2,     1,     2,     1]))\n",
      "FB16_5_OTHERS 18239 (array([nan, 'Bandhan bank', 'Dhanlakshmi Scheme', 'Don\\xc2\\x92t know',\n",
      "       'From village', 'Jan Laxmi', 'Jivika', 'Kudumbashree',\n",
      "       'Local Financers', 'Mahila Bank', 'Muthoot Finance', 'Ujjiwan'], dtype=object), array([18239,     2,     1,     2,     1,     1,     1,     3,     2,\n",
      "           1,     1,     1]))\n",
      "FB16_96_OTHERS 18237 (array([nan, 'Contractor', 'Don\\xc2\\x92t know', 'For Farming', 'Friend',\n",
      "       'From farmer', 'From my relatives', 'From relative', 'Government',\n",
      "       'I don\\xc2\\x92t know', 'Kisan Credit Card', 'LIC', 'SKS Bank',\n",
      "       'Society', 'Work Place'], dtype=object), array([18237,     1,     2,     1,     3,     1,     1,     2,     1,\n",
      "           1,     1,     1,     1,     1,     1]))\n",
      "FB19_96_OTHERS 18158 (array([nan, 'As per requirement', 'Buy a tractor', 'Buy jewellery',\n",
      "       'Family marriage', 'For Construction', 'For House maintenance',\n",
      "       'For Social work', 'For Son', 'For emergency', 'For marriage',\n",
      "       'Marriage', 'Personal Purpose', 'Repay other loan', 'To buy a bell',\n",
      "       'To buy gold earing', 'To buy jewellery',\n",
      "       'To buy tailoring maching', 'To repair Auto',\n",
      "       'To repay another loan'], dtype=object), array([18158,     3,     1,     1,     1,     1,     8,     1,     1,\n",
      "           1,    59,     2,     7,     2,     1,     1,     3,     2,\n",
      "           1,     1]))\n",
      "FB19_6_OTHERS 18054 (array([nan, 'Accident', 'As per requirement', 'Bail from Jail', 'Buy cow',\n",
      "       'College fees for son', 'Construct House', 'Daily needs',\n",
      "       'Daughter Marriage', 'Don\\xc2\\x92t know', 'Family demands',\n",
      "       'Family needs', 'Finance', 'For Funeral', 'For House maintenance',\n",
      "       'For Job', 'For Marriage', 'For Son', 'For Travelling',\n",
      "       'For buying clothes', 'For emergency', 'For prayer ceremony',\n",
      "       'Function', 'Marriage', 'Personal Purpose', 'Repay other Loan',\n",
      "       'Sammaram', \"Sister's marriage\", 'To Give Someone',\n",
      "       'To repay another loan'], dtype=object), array([18054,     2,     1,     1,     1,     1,     1,     5,     1,\n",
      "         108,     2,     2,     1,     5,     4,     3,    38,     1,\n",
      "           2,     2,     4,     2,     4,     1,     3,     1,     1,\n",
      "           1,     1,     2]))\n",
      "FB19A_OTHERS 18192 (array([nan, 'For Medical purpose', 'From Friend', 'From Neighbour',\n",
      "       'From someone else', 'House loan', 'I don\\xc2\\x92t have loan',\n",
      "       'Kisan Credit Card', 'None', 'Personal Loan', 'Sahara',\n",
      "       'Saving account', 'To improve my earnin'], dtype=object), array([18192,     1,     1,     1,     1,     1,     1,     1,    51,\n",
      "           1,     2,     1,     1]))\n",
      "FB19B_OTHERS 18213 (array([nan, 'For Necesaary goods', 'For education', 'It saves time', 'LIC',\n",
      "       'Local Finance', 'Need government help', 'None', 'SBI', 'Sahara'], dtype=object), array([18213,     1,     1,     1,     1,     1,     1,    31,     1,     4]))\n",
      "FB22_7_OTHERS 18250 (array([nan, 'Dakar goup', 'GP grahak', 'Marriage', 'Near my house',\n",
      "       'Saraswati samuh'], dtype=object), array([18250,     1,     1,     1,     1,     1]))\n",
      "FB22_96_OTHERS 18248 (array([nan, 'Home', 'I don\\xc2\\x92t save', 'None', 'With a known person',\n",
      "       'With other farmers'], dtype=object), array([18248,     1,     3,     1,     1,     1]))\n",
      "FB24_OTHERS 18209 (array([nan, 'About to open an account', 'Due to family issues',\n",
      "       'I am unemployed', 'I stay at home', 'No Specific Reason',\n",
      "       'No need right now'], dtype=object), array([18209,     1,     1,     1,     1,    41,     1]))\n",
      "FB25_OTHERS 18232 (array([nan, 'I don\\xc2\\x92t like saving through mobile money',\n",
      "       'No Specific reason', 'No need right now'], dtype=object), array([18232,     1,    14,     8]))\n",
      "FB26_OTHERS 18228 (array([nan, 'For Future', 'For emergency', 'For festivals',\n",
      "       'For health purpose', 'For marriage', 'For my brother',\n",
      "       'For myself', \"For sons's operation\", 'To become a teacher',\n",
      "       'To buy a motorbike', 'To buy agricultural land',\n",
      "       'To buy livestock', 'To repay a loan', 'To repay loan'], dtype=object), array([18228,     5,     5,     1,     5,     2,     1,     1,     1,\n",
      "           1,     1,     1,     1,     1,     1]))\n",
      "FB27_OTHERS 18248 (array([nan, 'Central bank', 'Fixed Deposit', 'Group Insurance',\n",
      "       'Rashtriya Bima Yojana', 'Sahara', 'Someone else bought it for me'], dtype=object), array([18248,     1,     1,     1,     1,     1,     2]))\n",
      "FB28_1_OTHERS 18253 (array([nan, 'I don\\xc2\\x92t know'], dtype=object), array([18253,     2]))\n",
      "FB28_2_OTHERS 18253 (array([nan, 'I don\\xc2\\x92t know', 'Micro finance'], dtype=object), array([18253,     1,     1]))\n",
      "FB28_4_OTHERS 18253 (array([nan, 'Co operative society', 'I don\\xc2\\x92t know'], dtype=object), array([18253,     1,     1]))\n",
      "FB28_96_OTHERS 18254 (array([nan, 'Group insurance'], dtype=object), array([18254,     1]))\n",
      "FB29_OTHERS 18189 (array([nan, 'Bank FD', 'Cash In home', 'Cgild Education',\n",
      "       'Chikki Business', 'For my own work', 'Gardening work',\n",
      "       'House construction', 'House renovation', 'I save in cash',\n",
      "       'In farming', 'In gold', 'In jewellery', 'In shop', 'Jivan', 'LIC',\n",
      "       \"Plumber's Contractor\", 'Sahara', 'Savings', 'Through bank',\n",
      "       'Through money lending'], dtype=object), array([18189,     7,     1,     1,     1,     1,     1,     1,     1,\n",
      "           1,    18,     3,     1,     2,     1,     3,     1,    16,\n",
      "           1,     4,     1]))\n",
      "LN2_RIndLngBEOth 6914 (array([nan, 'Aadiwasi', 'Arbi', 'Assamese', 'Assamese and Hindi',\n",
      "       'Bengali', 'Bhojpuri', 'Chattisgari', 'Dehati', 'English', 'Govan',\n",
      "       'Gujarati', 'Gujarati & Marathi', 'HIndi', 'Haryanvi', 'Hindi',\n",
      "       'Hindi & Gujarati', 'Hindi & Kannada', 'Hindi & Marathi',\n",
      "       'Hindi & Oriya', 'Hindi & Punjabi', 'Hindi & Rajasthani',\n",
      "       'Hindi & Urdu', 'Hindi, Marathi & Gujarati',\n",
      "       'Hindi, Oriya & Bengali', 'Kannada', 'Kannada & Telugu',\n",
      "       'Kannada & Urdu', 'Karbi', 'Kokborok', 'Konkani', 'Konkani & Hindi',\n",
      "       'Malayalam', 'Manipuri', 'Marathi', 'Marathi & Hindi',\n",
      "       'Marathi & Kannada', 'Meitei', 'Mewari', 'Nepali', 'None', 'Oriya',\n",
      "       'Oriya & Hindi', 'Oriya, Hindi & Bengali', 'Punjabi',\n",
      "       'Punjabi & Hindi', 'Rabha', 'Rajasthani', 'Sanskrit', 'Santhali',\n",
      "       'Tamil', 'Telugu', 'Telugu & Kannada', 'Thadou', 'Tribal Language',\n",
      "       'Urdu', 'Urdu, Kannada & Hindi', 'sanskrit'], dtype=object), array([6914,    1,    1,  180,    1,  891,   11,   31,    1,   43,    6,\n",
      "        410,    2,    3,    2, 5198,    1,    1,   11,    2,    2,    6,\n",
      "          7,    1,    1,  399,    2,    2,    5,    1,   13,    1,  293,\n",
      "         36, 1023,   85,    2,    1,   10,   10,   21,  478,    1,    1,\n",
      "        194,    3,    1,   21,    1,    1,  941,  914,    2,   10,   12,\n",
      "         39,    2,    3]))\n",
      "LN2_WIndLngBEOth 6911 (array([nan, 'Aadiwasi', 'Arbi', 'Assamese', 'Bengali', 'Bhojpuri', 'Boro',\n",
      "       'Chattisgari', 'Chhetriya bhasha', 'English',\n",
      "       'English, Hindi & Bengali', 'Govan', 'Gujarati',\n",
      "       'Gujarati & Marathi', 'Haryanvi', 'Hindi', 'Hindi & Gujarati',\n",
      "       'Hindi & Kannada', 'Hindi & Marathi', 'Hindi & Oriya',\n",
      "       'Hindi & Punjabi', 'Hindi & Urdu', 'Hindi, Marathi & Gujarati',\n",
      "       'Hindi, Oriya & Bengali', 'Jharkhandi', 'Kannada',\n",
      "       'Kannada & Telugu', 'Kannada & Urdu', 'Kokborok', 'Konkani',\n",
      "       'Konkani & Hindi', 'Malayalam', 'Manipuri', 'Marathi',\n",
      "       'Marathi & Hindi', 'Marathi & Kannada', 'Marwadi', 'Meitei',\n",
      "       'Mundri', 'Nepali', 'None', 'Oriya', 'Oriya & Hindi',\n",
      "       'Oriya, Hindi & Bengali', 'Punjabi', 'Punjabi & Hindi', 'Rabha',\n",
      "       'Rajasthani', 'Sanskrit', 'Santhali', 'Tamil', 'Telugu',\n",
      "       'Telugu & Kannada', 'Thadou', 'Tribal Language', 'Urdu',\n",
      "       'Urdu & Hindi', 'Urdu & Kannada', 'marwadi'], dtype=object), array([6911,    4,    1,  134, 1083,    6,    1,   37,    1,   24,    1,\n",
      "          2,  469,    1,    1, 5257,    1,    1,   12,    2,    1,    7,\n",
      "          1,    1,    2,  412,    2,    1,    1,   11,    1,  255,   26,\n",
      "        833,   87,    2,    1,    5,    2,    8,   46,  504,    1,    1,\n",
      "        129,    2,    1,   37,    7,    1,  949,  895,    1,    6,   14,\n",
      "         40,    4,    1,    8]))\n",
      "GN1_OTHERS 18196 (array([nan, 'Brother', 'Father in law', 'Mother in law', 'My child',\n",
      "       'Sister'], dtype=object), array([18196,     5,     1,     1,    50,     2]))\n",
      "GN2_OTHERS 18177 (array([nan, 'Brother', 'Daughter in law', 'Father in law', 'Grandparents',\n",
      "       'Mother in law', 'My child', 'Sister'], dtype=object), array([18177,     7,     2,     1,     1,     1,    63,     3]))\n",
      "GN3_OTHERS 18172 (array([nan, 'Brother', 'Father in law', 'Grandparents', 'Mother in law',\n",
      "       'My child', 'Sister', 'Son in law'], dtype=object), array([18172,    11,     1,     1,     1,    66,     2,     1]))\n",
      "GN4_OTHERS 18169 (array([nan, 'Brother', 'Father in law', 'Grandparents', 'Mother in law',\n",
      "       'My child', 'Sister', 'Son in law'], dtype=object), array([18169,     9,     1,     1,     1,    71,     2,     1]))\n",
      "GN5_OTHERS 18179 (array([nan, 'Brother', 'Father in law', 'Grandparents', 'Mother in law',\n",
      "       'My child', 'Sister'], dtype=object), array([18179,     8,     1,     1,     1,    63,     2]))\n"
     ]
    }
   ],
   "source": [
    "for col in category_cols:\n",
    "    null_count = train_df[col].isnull().sum()\n",
    "    values = train_df[col].values\n",
    "    \n",
    "    print col, null_count, np.unique(values, return_counts=True)"
   ]
  },
  {
   "cell_type": "code",
   "execution_count": 179,
   "metadata": {},
   "outputs": [],
   "source": [
    "numerical_df = train_df[[i for i in train_df.columns if i not in category_cols]]"
   ]
  },
  {
   "cell_type": "code",
   "execution_count": 182,
   "metadata": {},
   "outputs": [],
   "source": [
    "lang_fem = train_df[['LN2_RIndLngBEOth', 'is_female']]\n",
    "lang = train_df['LN2_RIndLngBEOth'].values\n",
    "fem = train_df['is_female'].values\n",
    "\n",
    "\n",
    "lang_fem_0 = lang_fem[lang_fem['is_female']==0]\n",
    "lang_fem_1 = lang_fem[lang_fem['is_female']==1]"
   ]
  },
  {
   "cell_type": "code",
   "execution_count": 189,
   "metadata": {},
   "outputs": [
    {
     "data": {
      "text/plain": [
       "array([nan, 'Aadiwasi', 'Arbi', 'Assamese', 'Assamese and Hindi',\n",
       "       'Bengali', 'Bhojpuri', 'Chattisgari', 'Dehati', 'English', 'Govan',\n",
       "       'Gujarati', 'Gujarati & Marathi', 'HIndi', 'Haryanvi', 'Hindi',\n",
       "       'Hindi & Gujarati', 'Hindi & Kannada', 'Hindi & Marathi',\n",
       "       'Hindi & Oriya', 'Hindi & Punjabi', 'Hindi & Rajasthani',\n",
       "       'Hindi & Urdu', 'Hindi, Marathi & Gujarati',\n",
       "       'Hindi, Oriya & Bengali', 'Kannada', 'Kannada & Telugu',\n",
       "       'Kannada & Urdu', 'Karbi', 'Kokborok', 'Konkani', 'Konkani & Hindi',\n",
       "       'Malayalam', 'Manipuri', 'Marathi', 'Marathi & Hindi',\n",
       "       'Marathi & Kannada', 'Meitei', 'Mewari', 'Nepali', 'None', 'Oriya',\n",
       "       'Oriya & Hindi', 'Oriya, Hindi & Bengali', 'Punjabi',\n",
       "       'Punjabi & Hindi', 'Rabha', 'Rajasthani', 'Sanskrit', 'Santhali',\n",
       "       'Tamil', 'Telugu', 'Telugu & Kannada', 'Thadou', 'Tribal Language',\n",
       "       'Urdu', 'Urdu, Kannada & Hindi', 'sanskrit'], dtype=object)"
      ]
     },
     "execution_count": 189,
     "metadata": {},
     "output_type": "execute_result"
    }
   ],
   "source": [
    "np.unique(lang)"
   ]
  },
  {
   "cell_type": "code",
   "execution_count": 188,
   "metadata": {},
   "outputs": [
    {
     "data": {
      "text/plain": [
       "<matplotlib.axes._subplots.AxesSubplot at 0x1199a7a50>"
      ]
     },
     "execution_count": 188,
     "metadata": {},
     "output_type": "execute_result"
    },
    {
     "data": {
      "image/png": "[encoded data removed]",
      "text/plain": [
       "<matplotlib.figure.Figure at 0x118eb1910>"
      ]
     },
     "metadata": {},
     "output_type": "display_data"
    }
   ],
   "source": [
    "lang_fem_1['LN2_RIndLngBEOth'].hist()"
   ]
  },
  {
   "cell_type": "code",
   "execution_count": null,
   "metadata": {
    "collapsed": true
   },
   "outputs": [],
   "source": []
  }
 ],
 "metadata": {
  "kernelspec": {
   "display_name": "Python 2",
   "language": "python",
   "name": "python2"
  },
  "language_info": {
   "codemirror_mode": {
    "name": "ipython",
    "version": 2
   },
   "file_extension": ".py",
   "mimetype": "text/x-python",
   "name": "python",
   "nbconvert_exporter": "python",
   "pygments_lexer": "ipython2",
   "version": "2.7.14"
  }
 },
 "nbformat": 4,
 "nbformat_minor": 2
}
